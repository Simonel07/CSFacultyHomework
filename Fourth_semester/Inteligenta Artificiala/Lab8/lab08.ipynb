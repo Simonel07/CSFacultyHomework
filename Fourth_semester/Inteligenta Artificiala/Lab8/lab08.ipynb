{
 "cells": [
  {
   "cell_type": "code",
   "execution_count": 16,
   "metadata": {
    "ExecuteTime": {
     "end_time": "2023-05-15T15:21:03.739513Z",
     "start_time": "2023-05-15T15:21:02.814449Z"
    },
    "collapsed": true
   },
   "outputs": [],
   "source": [
    "from sklearn.datasets import load_breast_cancer\n",
    "from sklearn.datasets import load_iris\n",
    "from sklearn.preprocessing import StandardScaler\n",
    "from sklearn import linear_model\n",
    "import matplotlib.pyplot as plt\n",
    "import numpy as np\n",
    "import plotly.express as px\n",
    "from sklearn.linear_model import SGDClassifier\n",
    "from math import exp\n",
    "from random import random"
   ]
  },
  {
   "cell_type": "code",
   "execution_count": 17,
   "metadata": {
    "ExecuteTime": {
     "end_time": "2023-05-15T15:21:03.739860Z",
     "start_time": "2023-05-15T15:21:03.703298Z"
    },
    "collapsed": false
   },
   "outputs": [],
   "source": [
    "def sigmoid(x):\n",
    "    return 1 / (1 + exp(-x))"
   ]
  },
  {
   "cell_type": "code",
   "execution_count": 18,
   "metadata": {
    "ExecuteTime": {
     "end_time": "2023-05-15T15:21:04.098187Z",
     "start_time": "2023-05-15T15:21:04.090576Z"
    },
    "collapsed": false
   },
   "outputs": [],
   "source": [
    "from numpy import mean\n",
    "\n",
    "class MyLogisticRegression:\n",
    "    def __init__(self):\n",
    "        self.intercept_ = 0.0\n",
    "        self.coefficient_ = []\n",
    "        self.loss = []\n",
    "\n",
    "    def fit(self, x, y, learning_rate=0.001, no_epochs=1000):\n",
    "        self.coefficient_ = [random() for _ in range(len(x[0]) + 1)]\n",
    "        \n",
    "        # Antrenează modelul utilizând algoritmul de învățare SGD(metoda gradientului descrescator stocastic)\n",
    "        for epoch in range(no_epochs):\n",
    "            epoch_loss = []\n",
    "            for i in range(len(x)):\n",
    "                y_computed = sigmoid(self.evaluate(x[i], self.coefficient_))\n",
    "                crt_error = y_computed - y[i]\n",
    "                epoch_loss.append(crt_error)\n",
    "                \n",
    "                # Actualizează coeficienții folosind regula de actualizare a gradientului\n",
    "                for j in range(0, len(x[0])):\n",
    "                    self.coefficient_[j + 1] = self.coefficient_[j + 1] - learning_rate * crt_error * x[i][j]\n",
    "                self.coefficient_[0] = self.coefficient_[0] - learning_rate * crt_error * 1\n",
    "            \n",
    "            # Calculează media erorilor pentru această epocă și o adaugă la lista loss\n",
    "            self.loss.append(mean(epoch_loss))\n",
    "        \n",
    "        # Stabilește interceptul și coeficienții modelului\n",
    "        self.intercept_ = self.coefficient_[0]\n",
    "        self.coefficient_ = self.coefficient_[1:]\n",
    "\n",
    "    def evaluate(self, xi, coefficient):\n",
    "        # Calculează valoarea estimată a lui yi pentru un vector xi și coeficienții modelului\n",
    "        yi = coefficient[0]\n",
    "        for j in range(len(xi)):\n",
    "            yi += coefficient[j + 1] * xi[j]\n",
    "        return yi\n",
    "\n",
    "    def predict_one_sample(self, sample_features):\n",
    "        threshold = 0.5\n",
    "        coefficients = [self.intercept_] + [c for c in self.coefficient_]\n",
    "        \n",
    "        # Calculează valoarea estimată a etichetei pentru un singur sample\n",
    "        computed_float_value = self.evaluate(sample_features, coefficients)\n",
    "        computed01_value = sigmoid(computed_float_value)\n",
    "        computed_label = 0 if computed01_value < threshold else 1\n",
    "        return computed_label\n",
    "\n",
    "    def predict(self, in_test):\n",
    "        # Calculează etichetele estimate pentru setul de testare\n",
    "        computed_labels = [self.predict_one_sample(sample) for sample in in_test]\n",
    "        return computed_labels\n",
    "\n"
   ]
  },
  {
   "cell_type": "code",
   "execution_count": 19,
   "metadata": {
    "ExecuteTime": {
     "end_time": "2023-05-15T15:21:04.763701Z",
     "start_time": "2023-05-15T15:21:04.757058Z"
    },
    "collapsed": false
   },
   "outputs": [],
   "source": [
    "class MyLogisticRegressionMultipleLabels:\n",
    "\n",
    "    def __init__(self):\n",
    "        self.intercept_ = []\n",
    "        self.coefficient_ = []\n",
    "\n",
    "    def fit_batch(self, x, y, learning_rate=0.0001, no_epochs=1000):\n",
    "        self.coefficient_ = []\n",
    "        self.intercept_ = []\n",
    "        labels = list(set(y))\n",
    "        \n",
    "        # Antrenează modelul utilizând algoritmul de învățare batch\n",
    "        for label in labels:\n",
    "            coefficient = [random() for _ in range(len(x[0]) + 1)]\n",
    "            for _ in range(no_epochs):\n",
    "                errors = [0] * len(coefficient)\n",
    "                \n",
    "                # Calculează erorile pentru fiecare input și output\n",
    "                for input, output in zip(x, y):\n",
    "                    y_computed = sigmoid(self.evaluate(input, coefficient))\n",
    "                    error = y_computed - 1 if output == label else y_computed\n",
    "                    for i, xi in enumerate([1] + list(input)):\n",
    "                        errors[i] += error * xi\n",
    "                \n",
    "                # Actualizează coeficienții folosind regula de actualizare a gradientului\n",
    "                for i in range(len(coefficient)):\n",
    "                    coefficient[i] = coefficient[i] - learning_rate * errors[i]\n",
    "            \n",
    "            # Adaugă interceptul și coeficienții pentru eticheta curentă în listele corespunzătoare\n",
    "            self.intercept_.append(coefficient[0])\n",
    "            self.coefficient_.append(coefficient[1:])\n",
    "\n",
    "    def fit(self, x, y, learning_rate=0.001, no_epochs=1000):\n",
    "        self.intercept_ = []\n",
    "        self.coefficient_ = []\n",
    "        labels = list(set(y))\n",
    "        \n",
    "        # Antrenează modelul utilizând algoritmul de învățare SGD (Stochastic Gradient Descent)\n",
    "        for label in labels:\n",
    "            coefficient = [random() for _ in range(len(x[0]) + 1)]\n",
    "            for _ in range(no_epochs):\n",
    "                for input, output in zip(x, y):\n",
    "                    y_computed = sigmoid(self.evaluate(input, coefficient))\n",
    "                    error = y_computed - 1 if output == label else y_computed\n",
    "                    for j in range(len(x[0])):\n",
    "                        coefficient[j + 1] = coefficient[j + 1] - learning_rate * error * input[j]\n",
    "                    coefficient[0] = coefficient[0] - learning_rate * error\n",
    "            \n",
    "            # Adaugă interceptul și coeficienții pentru eticheta curentă în listele corespunzătoare\n",
    "            self.intercept_.append(coefficient[0])\n",
    "            self.coefficient_.append(coefficient[1:])\n",
    "\n",
    "    def evaluate(self, xi, coefficient):\n",
    "        # Calculează valoarea estimată a lui yi pentru un vector xi și coeficienții modelului\n",
    "        yi = coefficient[0]\n",
    "        for j in range(len(xi)):\n",
    "            yi += coefficient[j + 1] * xi[j]\n",
    "        return yi\n",
    "\n",
    "    def predict_one_sample(self, sample_features):\n",
    "        predictions = []\n",
    "        \n",
    "        # Calculează valorile estimate pentru fiecare etichetă și le adaugă în lista predictions\n",
    "        for intercept, coefficient in zip(self.intercept_, self.coefficient_):\n",
    "            computed_value = self.evaluate(sample_features, [intercept] + coefficient)\n",
    "            predictions.append(sigmoid(computed_value))\n",
    "        \n",
    "        # Returnează indicele etichetei cu cea mai mare valoare estimată\n",
    "        return predictions.index(max(predictions))\n",
    "\n",
    "    def predict(self, in_test):\n",
    "        # Calculează etichetele prezise pentru fiecare sample din setul de test\n",
    "        computed_labels = [self.predict_one_sample(sample) for sample in in_test]\n",
    "        return computed_labels"
   ]
  },
  {
   "cell_type": "code",
   "execution_count": 20,
   "metadata": {
    "ExecuteTime": {
     "end_time": "2023-05-15T15:21:05.384040Z",
     "start_time": "2023-05-15T15:21:05.378546Z"
    },
    "collapsed": false
   },
   "outputs": [],
   "source": [
    "def load_data():\n",
    "    # Încarcă setul de date breast cancer\n",
    "    data = load_breast_cancer()\n",
    "    \n",
    "    # Extrage intrările și ieșirile din setul de date\n",
    "    inputs = data['data']\n",
    "    outputs = data['target']\n",
    "    \n",
    "    # Extrage numele etichetelor de ieșire și numele caracteristicilor\n",
    "    output_names = data['target_names']\n",
    "    feature_names = list(data['feature_names'])\n",
    "    \n",
    "    # Extrage valoarea caracteristicii 'mean radius' și 'mean texture' pentru fiecare sample\n",
    "    feature1 = [feat[feature_names.index('mean radius')] for feat in inputs]\n",
    "    feature2 = [feat[feature_names.index('mean texture')] for feat in inputs]\n",
    "    \n",
    "    # Reorganizează intrările pentru a utiliza doar caracteristicile 'mean radius' și 'mean texture'\n",
    "    inputs = [[feat[feature_names.index('mean radius')], feat[feature_names.index('mean texture')]] for feat in inputs]\n",
    "    \n",
    "    # Returnează intrările, ieșirile, numele etichetelor de ieșire, valorile caracteristicii 'mean radius'\n",
    "    # și 'mean texture', și primele două nume de caracteristici\n",
    "    return inputs, outputs, output_names, feature1, feature2, feature_names[:2]\n"
   ]
  },
  {
   "cell_type": "code",
   "execution_count": 21,
   "metadata": {
    "ExecuteTime": {
     "end_time": "2023-05-15T15:21:05.840969Z",
     "start_time": "2023-05-15T15:21:05.835043Z"
    },
    "collapsed": false
   },
   "outputs": [],
   "source": [
    "def plot_data(inputs, outputs, output_names, feature_names, title=None):\n",
    "    # Extrage etichetele unice din ieșiri\n",
    "    labels = set(outputs)\n",
    "    \n",
    "    # Obține numărul de date\n",
    "    no_data = len(inputs)\n",
    "    \n",
    "    # Parcurge fiecare etichetă și plotează punctele corespunzătoare în funcție de caracteristici\n",
    "    for crt_label in labels:\n",
    "        x = [inputs[i][0] for i in range(no_data) if outputs[i] == crt_label]\n",
    "        y = [inputs[i][1] for i in range(no_data) if outputs[i] == crt_label]\n",
    "        plt.scatter(x, y, label=output_names[crt_label])\n",
    "    \n",
    "    # Adaugă etichetele și titlul la grafic\n",
    "    plt.xlabel(feature_names[0])\n",
    "    plt.ylabel(feature_names[1])\n",
    "    plt.legend()\n",
    "    plt.title(title)\n",
    "    \n",
    "    # Afișează graficul\n",
    "    plt.show()\n",
    "\n",
    "\n",
    "def plot_histogram_feature(feature, variableName):\n",
    "    # Plotează histograma pentru caracteristica dată\n",
    "    plt.hist(feature, 10)\n",
    "    \n",
    "    # Adaugă titlul la histogramă\n",
    "    plt.title('Histogram of ' + variableName)\n",
    "    \n",
    "    # Afișează histograma\n",
    "    plt.show()\n"
   ]
  },
  {
   "cell_type": "code",
   "execution_count": 22,
   "metadata": {
    "ExecuteTime": {
     "end_time": "2023-05-15T15:21:06.402929Z",
     "start_time": "2023-05-15T15:21:06.393728Z"
    },
    "collapsed": false
   },
   "outputs": [],
   "source": [
    "def train_and_test(inputs, outputs):\n",
    "    # Generează un set de indici pentru a selecta eșantioanele de antrenament\n",
    "    indexes = [i for i in range(len(inputs))]\n",
    "    \n",
    "    # Selectează un eșantion de antrenament aleator din datele de intrare\n",
    "    train_sample = np.random.choice(indexes, int(0.8 * len(inputs)), replace=False)\n",
    "    \n",
    "    # Construiește eșantioanele de antrenament și testare utilizând indicii selectați\n",
    "    train_inputs = [inputs[i] for i in train_sample]\n",
    "    train_outputs = [outputs[i] for i in train_sample]\n",
    "    test_inputs = [inputs[i] for i in indexes if i not in train_sample]\n",
    "    test_outputs = [outputs[i] for i in indexes if i not in train_sample]\n",
    "    \n",
    "    # Returnează datele de antrenament și testare\n",
    "    return train_inputs, train_outputs, test_inputs, test_outputs\n",
    "\n",
    "\n",
    "def normalisation(train_data, test_data):\n",
    "    # Inițializează scalatorul StandardScaler\n",
    "    scaler = StandardScaler()\n",
    "    \n",
    "    # Verifică dacă datele de antrenament sunt unidimensionale\n",
    "    if not isinstance(train_data[0], list):\n",
    "        # Reshapează datele de antrenament și testare pentru a avea o formă adecvată pentru scalare\n",
    "        train_data = [[d] for d in train_data]\n",
    "        test_data = [[d] for d in test_data]\n",
    "        \n",
    "        # Potrivește scalatorul pe datele de antrenament și realizează normalizarea\n",
    "        scaler.fit(train_data)\n",
    "        normalisedTrainData = scaler.transform(train_data)\n",
    "        normalisedTestData = scaler.transform(test_data)\n",
    "        \n",
    "        # Rearanjează datele normalizate pentru a reveni la forma unidimensională inițială\n",
    "        normalisedTrainData = [el[0] for el in normalisedTrainData]\n",
    "        normalisedTestData = [el[0] for el in normalisedTestData]\n",
    "    else:\n",
    "        # Potrivește scalatorul pe datele de antrenament și realizează normalizarea\n",
    "        scaler.fit(train_data)\n",
    "        normalisedTrainData = scaler.transform(train_data)\n",
    "        normalisedTestData = scaler.transform(test_data)\n",
    "    \n",
    "    # Returnează datele de antrenament și testare normalizate\n",
    "    return normalisedTrainData, normalisedTestData\n"
   ]
  },
  {
   "cell_type": "code",
   "execution_count": 23,
   "metadata": {
    "ExecuteTime": {
     "end_time": "2023-05-15T15:21:07.022586Z",
     "start_time": "2023-05-15T15:21:07.015879Z"
    },
    "collapsed": false
   },
   "outputs": [],
   "source": [
    "def learn_by_tool(train_inputs, train_outputs, test_inputs, test_outputs):\n",
    "    # Inițializează un clasificator de regresie logistică din biblioteca scikit-learn\n",
    "    classifier = linear_model.LogisticRegression()\n",
    "    \n",
    "    # Antrenează clasificatorul pe datele de antrenament\n",
    "    classifier.fit(train_inputs, train_outputs)\n",
    "    \n",
    "    # Obține coeficienții și interceptul clasificatorului antrenat\n",
    "    w0, w1, w2 = classifier.intercept_[0], classifier.coef_[0][0], classifier.coef_[0][1]\n",
    "    print('Classification model by tool: y =', w0, '+', w1, '* feat1 +', w2, '* feat2')\n",
    "    \n",
    "    # Realizează predicții pe datele de testare\n",
    "    computed_outputs = classifier.predict(test_inputs)\n",
    "    \n",
    "    # Calculează scorul de acuratețe pe datele de testare\n",
    "    print(\"Accuracy score:\", classifier.score(test_inputs, test_outputs))\n",
    "    \n",
    "    # Returnează predicțiile\n",
    "    return computed_outputs\n",
    "\n",
    "\n",
    "def learn_by_me(train_inputs, train_outputs, test_inputs, test_outputs):\n",
    "    # Inițializează un clasificator de regresie logistică personalizat\n",
    "    classifier = MyLogisticRegression()\n",
    "    \n",
    "    # Antrenează clasificatorul pe datele de antrenament\n",
    "    classifier.fit(train_inputs, train_outputs)\n",
    "    \n",
    "    # Plotează evoluția pierderii pe parcursul antrenării\n",
    "    plt.plot(classifier.loss, [index for index in range(len(classifier.loss))])\n",
    "    plt.show()\n",
    "    \n",
    "    # Obține coeficienții și interceptul clasificatorului antrenat\n",
    "    w0, w1, w2 = classifier.intercept_, classifier.coefficient_[0], classifier.coefficient_[1]\n",
    "    print('Classification model by me: y =', w0, '+', w1, '* feat1 +', w2, '* feat2')\n",
    "    \n",
    "    # Realizează predicții pe datele de testare\n",
    "    computed_outputs = [1 if sigmoid(w0 + w1 * el[0] + w2 * el[1]) > 0.5 else 0 for el in test_inputs]\n",
    "    \n",
    "    # Calculează scorul de acuratețe pe datele de testare\n",
    "    no_data = len(test_inputs)\n",
    "    accuracy = 0.0\n",
    "    for i in range(no_data):\n",
    "        if test_outputs[i] == computed_outputs[i]:\n",
    "            accuracy += 1\n",
    "    print(\"Accuracy score:\", accuracy / no_data)\n",
    "    \n",
    "    # Returnează predicțiile\n",
    "    return computed_outputs\n"
   ]
  },
  {
   "cell_type": "code",
   "execution_count": 24,
   "metadata": {
    "ExecuteTime": {
     "end_time": "2023-05-15T15:21:07.536270Z",
     "start_time": "2023-05-15T15:21:07.527784Z"
    },
    "collapsed": false
   },
   "outputs": [],
   "source": [
    "def plot_predictions(inputs, real_outputs, computed_outputs, label_names, feature_names, title=None):\n",
    "    # Obține lista de etichete unice\n",
    "    labels = list(set(real_outputs))\n",
    "    \n",
    "    # Obține numărul total de date\n",
    "    no_data = len(inputs)\n",
    "    \n",
    "    # Plotează punctele corespunzătoare predicțiilor corecte\n",
    "    for crt_label in labels:\n",
    "        x = [inputs[i][0] for i in range(no_data) if real_outputs[i] == crt_label and computed_outputs[i] == crt_label]\n",
    "        y = [inputs[i][1] for i in range(no_data) if real_outputs[i] == crt_label and computed_outputs[i] == crt_label]\n",
    "        plt.scatter(x, y, label=label_names[crt_label] + ' (correct)')\n",
    "    \n",
    "    # Plotează punctele corespunzătoare predicțiilor incorecte\n",
    "    for crt_label in labels:\n",
    "        x = [inputs[i][0] for i in range(no_data) if real_outputs[i] == crt_label and computed_outputs[i] != crt_label]\n",
    "        y = [inputs[i][1] for i in range(no_data) if real_outputs[i] == crt_label and computed_outputs[i] != crt_label]\n",
    "        plt.scatter(x, y, label=label_names[crt_label] + ' (incorrect)')\n",
    "    \n",
    "    # Setează etichetele axelor și titlul graficului\n",
    "    plt.xlabel(feature_names[0])\n",
    "    plt.ylabel(feature_names[1])\n",
    "    plt.title(title)\n",
    "    \n",
    "    # Adaugă legenda și afișează graficul\n",
    "    plt.legend()\n",
    "    plt.show()\n",
    "\n",
    "\n",
    "def calculate_performance(computed_outputs, test_outputs, method):\n",
    "    # Calculează eroarea de clasificare\n",
    "    error = 0.0\n",
    "    for t1, t2 in zip(computed_outputs, test_outputs):\n",
    "        if t1 != t2:\n",
    "            error += 1\n",
    "    error = error / len(test_outputs)\n",
    "    \n",
    "    # Afișează eroarea de clasificare\n",
    "    print('Classification error by', method, ':', error)\n",
    "\n"
   ]
  },
  {
   "cell_type": "code",
   "execution_count": 25,
   "metadata": {
    "ExecuteTime": {
     "end_time": "2023-05-15T15:21:08.081536Z",
     "start_time": "2023-05-15T15:21:08.074170Z"
    },
    "collapsed": false
   },
   "outputs": [],
   "source": [
    "def load_data_flowers():\n",
    "    # Încarcă setul de date Iris\n",
    "    data = load_iris()\n",
    "    \n",
    "    # Extrage intrările și ieșirile din setul de date\n",
    "    inputs = data['data']\n",
    "    outputs = data['target']\n",
    "    \n",
    "    # Extrage numele ieșirilor și numele caracteristicilor\n",
    "    outputs_name = data['target_names']\n",
    "    feature_names = list(data['feature_names'])\n",
    "    \n",
    "    # Extrage valorile caracteristicilor individuale\n",
    "    feature1 = [feat[feature_names.index('sepal length (cm)')] for feat in inputs]\n",
    "    feature2 = [feat[feature_names.index('sepal width (cm)')] for feat in inputs]\n",
    "    feature3 = [feat[feature_names.index('petal length (cm)')] for feat in inputs]\n",
    "    feature4 = [feat[feature_names.index('petal width (cm)')] for feat in inputs]\n",
    "    \n",
    "    # Rearanjează datele de intrare pentru a le avea sub formă de liste de caracteristici\n",
    "    inputs = [[feat[feature_names.index('sepal length (cm)')],\n",
    "               feat[feature_names.index('sepal width (cm)')],\n",
    "               feat[feature_names.index('petal length (cm)')],\n",
    "               feat[feature_names.index('petal width (cm)')]] for feat in inputs]\n",
    "    \n",
    "    return inputs, outputs, outputs_name, feature1, feature2, feature3, feature4, feature_names\n",
    "\n",
    "\n",
    "def plot_data_four_features(inputs, outputs, output_names, feature_names, title=None):\n",
    "    # Extrage valorile caracteristicilor individuale\n",
    "    x = [i[0] for i in inputs]\n",
    "    y = [i[1] for i in inputs]\n",
    "    z = [i[2] for i in inputs]\n",
    "    v = [i[3] for i in inputs]\n",
    "    \n",
    "    # Generează un grafic 3D folosind plotly express\n",
    "    figure = px.scatter_3d(x=x, y=y, z=z, symbol=v, color=outputs, title=title,\n",
    "                           labels=dict(x=feature_names[0], y=feature_names[1], z=feature_names[2],\n",
    "                                       symbol=feature_names[3], color=\"Type\"))\n",
    "    \n",
    "    # Actualizează aspectul graficului\n",
    "    figure.update_layout(legend=dict(orientation=\"v\", yanchor='top', xanchor=\"right\"))\n",
    "    \n",
    "    # Afișează graficul\n",
    "    figure.show()\n"
   ]
  },
  {
   "cell_type": "code",
   "execution_count": 26,
   "metadata": {
    "ExecuteTime": {
     "end_time": "2023-05-15T15:21:08.603886Z",
     "start_time": "2023-05-15T15:21:08.599156Z"
    },
    "collapsed": false
   },
   "outputs": [],
   "source": [
    "def learn_by_tool_multi_label(train_inputs, train_outputs, test_inputs, test_outputs):\n",
    "    # Creați un clasificator de regresie logistică\n",
    "    classifier = linear_model.LogisticRegression()\n",
    "    \n",
    "    # Antrenați clasificatorul utilizând datele de antrenament\n",
    "    classifier.fit(train_inputs, train_outputs)\n",
    "    \n",
    "    # Extrageți coeficienții și intercepția pentru fiecare etichetă\n",
    "    w0, w1, w2, w3, w4 = classifier.intercept_[0], classifier.coef_[0][0], classifier.coef_[0][1], classifier.coef_[0][2], classifier.coef_[0][3]\n",
    "    print('Classification model by tool first label: y =', w0, '+', w1, '* feat1 +', w2, '* feat2 +', w3, '* feat3 +', w4, '* feat4')\n",
    "    w0, w1, w2, w3, w4 = classifier.intercept_[1], classifier.coef_[1][0], classifier.coef_[1][1], classifier.coef_[1][2], classifier.coef_[1][3]\n",
    "    print('Classification model by tool second label: y =', w0, '+', w1, '* feat1 +', w2, '* feat2 +', w3, '* feat3 +', w4, '* feat4')\n",
    "    w0, w1, w2, w3, w4 = classifier.intercept_[2], classifier.coef_[2][0], classifier.coef_[2][1], classifier.coef_[2][2], classifier.coef_[2][3]\n",
    "    print('Classification model by tool third label: y =', w0, '+', w1, '* feat1 +', w2, '* feat2 +', w3, '* feat3 +', w4, '* feat4')\n",
    "    \n",
    "    # Calculează ieșirile prevăzute pentru datele de testare\n",
    "    computed_outputs = classifier.predict(test_inputs)\n",
    "    \n",
    "    # Calculează scorul de acuratețe al clasificatorului\n",
    "    print(\"Accuracy score:\", classifier.score(test_inputs, test_outputs))\n",
    "    \n",
    "    return computed_outputs\n",
    "\n",
    "\n",
    "\n",
    "def learn_by_me_multi_label(train_inputs, train_outputs, test_inputs, test_outputs):\n",
    "    classifier = MyLogisticRegressionMultipleLabels()\n",
    "    classifier.fit_batch(train_inputs, train_outputs)\n",
    "    w0, w1, w2, w3, w4 = classifier.intercept_[0], classifier.coefficient_[0][0], classifier.coefficient_[0][1], classifier.coefficient_[0][2], classifier.coefficient_[0][3]\n",
    "    print('Classification model by me first label: y =', w0, '+', w1, '* feat1 +', w2, '* feat2 +', w3, '* feat3 +', w4, '* feat4')\n",
    "    w0, w1, w2, w3, w4 = classifier.intercept_[1], classifier.coefficient_[1][0], classifier.coefficient_[1][1], classifier.coefficient_[1][2], classifier.coefficient_[1][3]\n",
    "    print('Classification model by me second label: y =', w0, '+', w1, '* feat1 +', w2, '* feat2 +', w3, '* feat3 +', w4, '* feat4')\n",
    "    w0, w1, w2, w3, w4 = classifier.intercept_[2], classifier.coefficient_[2][0], classifier.coefficient_[2][1], classifier.coefficient_[2][2], classifier.coefficient_[2][3]\n",
    "    print('Classification model by me third label: y =', w0, '+', w1, '* feat1 +', w2, '* feat2 +', w3, '* feat3 +', w4, '* feat4')\n",
    "    \n",
    "    # Calculează ieșirile prevăzute pentru datele de testare\n",
    "    computed_outputs = classifier.predict(test_inputs)\n",
    "    \n",
    "    # Calculează scorul de acuratețe al clasificatorului\n",
    "    no_data = len(test_inputs)\n",
    "    accuracy = 0.0\n",
    "    for i in range(no_data):\n",
    "        if test_outputs[i] == computed_outputs[i]:\n",
    "            accuracy += 1\n",
    "    print(\"Accuracy score:\", accuracy / no_data)\n",
    "    \n",
    "    return computed_outputs\n"
   ]
  },
  {
   "cell_type": "code",
   "execution_count": 27,
   "metadata": {
    "ExecuteTime": {
     "end_time": "2023-05-15T15:21:09.132728Z",
     "start_time": "2023-05-15T15:21:09.125983Z"
    },
    "collapsed": false
   },
   "outputs": [],
   "source": [
    "def cross_validation(inputs, outputs):\n",
    "    indexes = [i for i in range(len(inputs))]\n",
    "    first_set_index = []\n",
    "    second_set_index = []\n",
    "    third_set_index = []\n",
    "    forth_set_index = []\n",
    "    fifth_set_index = []\n",
    "    \n",
    "    # Împărțirea setului de date în 5 subseturi echivalente folosind validare încrucișată\n",
    "    for i in range(5):\n",
    "        # Selectarea aleatorie a unui subset pentru fiecare iterație\n",
    "        first_set_index = np.random.choice(indexes, int(0.2 * len(inputs)), replace=False)\n",
    "        used = list(first_set_index)\n",
    "        \n",
    "        # Selecția aleatorie a celui de-al doilea subset, excluzând datele deja selectate\n",
    "        second_set_index = np.random.choice([i for i in indexes if i not in used], int(0.2 * len(inputs)), replace=False)\n",
    "        used += list(second_set_index)\n",
    "        \n",
    "        # Selecția aleatorie a celui de-al treilea subset, excluzând datele deja selectate\n",
    "        third_set_index = np.random.choice([i for i in indexes if i not in used], int(0.20 * len(inputs)), replace=False)\n",
    "        used += list(third_set_index)\n",
    "        \n",
    "        # Selecția aleatorie a celui de-al patrulea subset, excluzând datele deja selectate\n",
    "        forth_set_index = np.random.choice([i for i in indexes if i not in used], int(0.20 * len(inputs)), replace=False)\n",
    "        used += list(forth_set_index)\n",
    "        \n",
    "        # Celelalte date vor fi incluse în cel de-al cincilea subset\n",
    "        fifth_set_index = [i for i in indexes if i not in used]\n",
    "    \n",
    "    # Construirea subseturilor pe baza indexilor obținuți\n",
    "    first_set = {\n",
    "        'inputs': [inputs[i] for i in first_set_index],\n",
    "        'outputs': [outputs[i] for i in first_set_index]\n",
    "    }\n",
    "    second_set = {\n",
    "        'inputs': [inputs[i] for i in second_set_index],\n",
    "        'outputs': [outputs[i] for i in second_set_index]\n",
    "    }\n",
    "    third_set = {\n",
    "        'inputs': [inputs[i] for i in third_set_index],\n",
    "        'outputs': [outputs[i] for i in third_set_index]\n",
    "    }\n",
    "    forth_set = {\n",
    "        'inputs': [inputs[i] for i in forth_set_index],\n",
    "        'outputs': [outputs[i] for i in forth_set_index]\n",
    "    }\n",
    "    fifth_set = {\n",
    "        'inputs': [inputs[i] for i in fifth_set_index],\n",
    "        'outputs': [outputs[i] for i in fifth_set_index]\n",
    "    }\n",
    "    \n",
    "    # Returnarea subseturilor rezultate\n",
    "    return [first_set, second_set, third_set, forth_set, fifth_set]\n",
    "\n",
    "\n",
    "def other_loss_function(train_inputs, train_outputs, test_inputs, test_outputs):\n",
    "    # Antrenarea clasificatorului și evaluarea acurateței utilizând diferite funcții de pierdere\n",
    "    classifier = SGDClassifier(loss='log_loss')\n",
    "    classifier.fit(train_inputs, train_outputs)\n",
    "    print('Accuracy score (log loss by tool):', classifier.score(test_inputs, test_outputs))\n",
    "    \n",
    "    classifier = SGDClassifier(loss='hinge')\n",
    "    classifier.fit(train_inputs, train_outputs)\n",
    "    print('Accuracy score (hinge loss by tool):', classifier.score(test_inputs, test_outputs))\n",
    "    \n",
    "    classifier = SGDClassifier(loss='squared_hinge')\n",
    "    classifier.fit(train_inputs, train_outputs)\n",
    "    print('Accuracy score (squared hinge loss by tool):', classifier.score(test_inputs, test_outputs))\n"
   ]
  },
  {
   "cell_type": "code",
   "execution_count": 28,
   "metadata": {
    "ExecuteTime": {
     "end_time": "2023-05-15T15:21:09.742649Z",
     "start_time": "2023-05-15T15:21:09.740908Z"
    },
    "collapsed": false
   },
   "outputs": [],
   "source": [
    "def main_breast_cancer():\n",
    "    # Funcția principală pentru setul de date cancer la sân\n",
    "    \n",
    "    # Încărcarea datelor și afișarea lor inițială\n",
    "    print(\"Two classes:\")\n",
    "    inputs, outputs, outputNames, feature1, feature2, featureNames = load_data()\n",
    "    plot_data(inputs, outputs, outputNames, featureNames, \"Initial data\")\n",
    "    plot_histogram_feature(feature1, featureNames[0])\n",
    "    plot_histogram_feature(feature2, featureNames[1])\n",
    "    plot_histogram_feature(outputs, 'Cancer class')\n",
    "    \n",
    "    # Divizarea datelor în setul de antrenare și setul de testare\n",
    "    trainInputs, trainOutputs, testInputs, testOutputs = train_and_test(inputs, outputs)\n",
    "    \n",
    "    # Normalizarea datelor de intrare\n",
    "    trainInputs, testInputs = normalisation(trainInputs, testInputs)\n",
    "    \n",
    "    # Antrenarea și evaluarea clasificatorului folosind toolurile disponibile\n",
    "    computedTestOutputs = learn_by_tool(trainInputs, trainOutputs, testInputs, testOutputs)\n",
    "    \n",
    "    # Afișarea rezultatelor obținute de tool\n",
    "    plot_predictions(testInputs, testOutputs, computedTestOutputs, outputNames, featureNames, \"Results by tool\")\n",
    "    \n",
    "    # Calcularea performanței clasificatorului folosind tool ul\n",
    "    calculate_performance(computedTestOutputs, testOutputs, \"tool\")\n",
    "    print()\n",
    "    \n",
    "    # Antrenarea și evaluarea clasificatorului implementat de utilizator\n",
    "    computedTestOutputs = learn_by_me(trainInputs, trainOutputs, testInputs, testOutputs)\n",
    "    \n",
    "    # Afișarea rezultatelor obținute de utilizator\n",
    "    plot_predictions(testInputs, testOutputs, computedTestOutputs, outputNames, featureNames, \"Results by me\")\n",
    "    \n",
    "    # Calcularea performanței clasificatorului implementat de utilizator\n",
    "    calculate_performance(computedTestOutputs, testOutputs, \"me\")\n",
    "\n",
    "def main_flowers():\n",
    "    # Funcția principală pentru setul de date flori\n",
    "    \n",
    "    # Încărcarea datelor și afișarea lor inițială\n",
    "    inputs, outputs, outputNames, feature1, feature2, feature3, feature4, featureNames = load_data_flowers()\n",
    "    plot_data_four_features(inputs, outputs, outputNames, featureNames, \"Initial data for flowers\")\n",
    "    plot_histogram_feature(feature1, featureNames[0])\n",
    "    plot_histogram_feature(feature2, featureNames[1])\n",
    "    plot_histogram_feature(feature3, featureNames[2])\n",
    "    plot_histogram_feature(feature4, featureNames[3])\n",
    "    plot_histogram_feature(outputs, 'Flowers class')\n",
    "    \n",
    "    # Divizarea datelor în setul de antrenare și setul de testare\n",
    "    trainInputs, trainOutputs, testInputs, testOutputs = train_and_test(inputs, outputs)\n",
    "    \n",
    "    # Normalizarea datelor de intrare\n",
    "    trainInputs, testInputs = normalisation(trainInputs, testInputs)\n",
    "    \n",
    "    # Antrenarea și evaluarea clasificatorului folosind toolurile disponibile pentru probleme cu mai multe etichete\n",
    "    computedTestOutputs = learn_by_tool_multi_label(trainInputs, trainOutputs, testInputs, testOutputs)\n",
    "    \n",
    "    # Afișarea rezultatelor obținute de tool pentru primele două caracteristici\n",
    "    plot_predictions(testInputs, testOutputs, computedTestOutputs, outputNames, featureNames[:2], \"Results by tool\")\n",
    "    \n",
    "    calculate_performance(computedTestOutputs, testOutputs, \"tool\")\n",
    "    print()\n",
    "    \n",
    "    # Antrenarea și evaluarea clasificatorului implementat de utilizator pentru probleme cu mai multe etichete\n",
    "    computedTestOutputs = learn_by_me_multi_label(trainInputs, trainOutputs, testInputs, testOutputs)\n",
    "    \n",
    "    # Afișarea rezultatelor obținute de utilizator pentru primele două caracteristici\n",
    "    plot_predictions(testInputs, testOutputs, computedTestOutputs, outputNames, featureNames[:2], \"Results by me\")\n",
    "    \n",
    "    # Calcularea performanței clasificatorului implementat de utilizator\n",
    "    calculate_performance(computedTestOutputs, testOutputs, \"me\")\n",
    "    print()\n",
    "    \n",
    "    print(\"Cross validation:\")\n",
    "    # Validare încrucișată pentru evaluarea performanței clasificatorului implementat de utilizator\n",
    "    data = cross_validation(inputs, outputs)\n",
    "    for index in range(5):\n",
    "        testInputs = data[index]['inputs']\n",
    "        testOutputs = data[index]['outputs']\n",
    "        trainInputs = []\n",
    "        trainOutputs = []\n",
    "        \n",
    "        # Construirea setului de antrenare folosind celelalte subseturi\n",
    "        for dictionary in data[:index] + data[index + 1:]:\n",
    "            trainInputs += dictionary['inputs']\n",
    "            trainOutputs += dictionary['outputs']\n",
    "        \n",
    "        # Normalizarea datelor de intrare pentru seturile de antrenare și testare\n",
    "        trainInputs, testInputs = normalisation(trainInputs, testInputs)\n",
    "        \n",
    "        # Antrenarea și evaluarea clasificatorului implementat de utilizator\n",
    "        computedTestOutputs = learn_by_me_multi_label(trainInputs, trainOutputs, testInputs, testOutputs)\n",
    "        \n",
    "        # Calcularea performanței clasificatorului implementat de utilizator\n",
    "        calculate_performance(computedTestOutputs, testOutputs, \"me\")\n",
    "        print()\n",
    "    \n",
    "    print(\"Other loss functions:\")\n",
    "    # Antrenarea și evaluarea clasificatorului folosind diferite funcții de pierdere\n",
    "    trainInputs, trainOutputs, testInputs, testOutputs = train_and_test(inputs, outputs)\n",
    "    trainInputs, testInputs = normalisation(trainInputs, testInputs)\n",
    "    other_loss_function(trainInputs, trainOutputs, testInputs, testOutputs)\n",
    "\n"
   ]
  },
  {
   "cell_type": "code",
   "execution_count": 29,
   "metadata": {
    "ExecuteTime": {
     "end_time": "2023-05-15T15:21:12.524410Z",
     "start_time": "2023-05-15T15:21:10.264864Z"
    },
    "collapsed": false
   },
   "outputs": [
    {
     "name": "stdout",
     "output_type": "stream",
     "text": [
      "Two classes:\n"
     ]
    },
    {
     "data": {
      "image/png": "[encoded data removed]",
      "text/plain": [
       "<Figure size 640x480 with 1 Axes>"
      ]
     },
     "metadata": {},
     "output_type": "display_data"
    },
    {
     "data": {
      "image/png": "[encoded data removed]",
      "text/plain": [
       "<Figure size 640x480 with 1 Axes>"
      ]
     },
     "metadata": {},
     "output_type": "display_data"
    },
    {
     "data": {
      "image/png": "[encoded data removed]",
      "text/plain": [
       "<Figure size 640x480 with 1 Axes>"
      ]
     },
     "metadata": {},
     "output_type": "display_data"
    },
    {
     "data": {
      "image/png": "[encoded data removed]",
      "text/plain": [
       "<Figure size 640x480 with 1 Axes>"
      ]
     },
     "metadata": {},
     "output_type": "display_data"
    },
    {
     "name": "stdout",
     "output_type": "stream",
     "text": [
      "Classification model by tool: y = 0.7046170437766893 + -3.2341984904386187 * feat1 + -0.9097041291968213 * feat2\n",
      "Accuracy score: 0.8947368421052632\n"
     ]
    },
    {
     "data": {
      "image/png": "[encoded data removed]",
      "text/plain": [
       "<Figure size 640x480 with 1 Axes>"
      ]
     },
     "metadata": {},
     "output_type": "display_data"
    },
    {
     "name": "stdout",
     "output_type": "stream",
     "text": [
      "Classification error by tool : 0.10526315789473684\n",
      "\n"
     ]
    },
    {
     "data": {
      "image/png": "[encoded data removed]",
      "text/plain": [
       "<Figure size 640x480 with 1 Axes>"
      ]
     },
     "metadata": {},
     "output_type": "display_data"
    },
    {
     "name": "stdout",
     "output_type": "stream",
     "text": [
      "Classification model by me: y = 0.708570004383778 + -3.6945121942532406 * feat1 + -0.9847668984633001 * feat2\n",
      "Accuracy score: 0.8947368421052632\n"
     ]
    },
    {
     "data": {
      "image/png": "[encoded data removed]",
      "text/plain": [
       "<Figure size 640x480 with 1 Axes>"
      ]
     },
     "metadata": {},
     "output_type": "display_data"
    },
    {
     "name": "stdout",
     "output_type": "stream",
     "text": [
      "Classification error by me : 0.10526315789473684\n"
     ]
    }
   ],
   "source": [
    "main_breast_cancer()"
   ]
  },
  {
   "cell_type": "code",
   "execution_count": 30,
   "metadata": {
    "ExecuteTime": {
     "end_time": "2023-05-15T00:59:14.061036Z",
     "start_time": "2023-05-15T00:59:04.606614Z"
    },
    "collapsed": false
   },
   "outputs": [
    {
     "data": {
      "application/vnd.plotly.v1+json": {
       "config": {
        "plotlyServerURL": "https://plot.ly"
       },
       "data": [
        {
         "hovertemplate": "petal width (cm)=0.2<br>sepal length (cm)=%{x}<br>sepal width (cm)=%{y}<br>petal length (cm)=%{z}<br>Type=%{marker.color}<extra></extra>",
         "legendgroup": "0.2",
         "marker": {
          "color": [
           0,
           0,
           0,
           0,
           0,
           0,
           0,
           0,
           0,
           0,
           0,
           0,
           0,
           0,
           0,
           0,
           0,
           0,
           0,
           0,
           0,
           0,
           0,
           0,
           0,
           0,
           0,
           0,
           0
          ],
          "coloraxis": "coloraxis",
          "symbol": "circle"
         },
         "mode": "markers",
         "name": "0.2",
         "scene": "scene",
         "showlegend": true,
         "type": "scatter3d",
         "x": [
          5.1,
          4.9,
          4.7,
          4.6,
          5,
          5,
          4.4,
          5.4,
          4.8,
          5.8,
          5.4,
          4.6,
          4.8,
          5,
          5.2,
          5.2,
          4.7,
          4.8,
          5.5,
          4.9,
          5,
          5.5,
          4.4,
          5.1,
          4.4,
          5.1,
          4.6,
          5.3,
          5
         ],
         "y": [
          3.5,
          3,
          3.2,
          3.1,
          3.6,
          3.4,
          2.9,
          3.7,
          3.4,
          4,
          3.4,
          3.6,
          3.4,
          3,
          3.5,
          3.4,
          3.2,
          3.1,
          4.2,
          3.1,
          3.2,
          3.5,
          3,
          3.4,
          3.2,
          3.8,
          3.2,
          3.7,
          3.3
         ],
         "z": [
          1.4,
          1.4,
          1.3,
          1.5,
          1.4,
          1.5,
          1.4,
          1.5,
          1.6,
          1.2,
          1.7,
          1,
          1.9,
          1.6,
          1.5,
          1.4,
          1.6,
          1.6,
          1.4,
          1.5,
          1.2,
          1.3,
          1.3,
          1.5,
          1.3,
          1.6,
          1.4,
          1.5,
          1.4
         ]
        },
        {
         "hovertemplate": "petal width (cm)=0.4<br>sepal length (cm)=%{x}<br>sepal width (cm)=%{y}<br>petal length (cm)=%{z}<br>Type=%{marker.color}<extra></extra>",
         "legendgroup": "0.4",
         "marker": {
          "color": [
           0,
           0,
           0,
           0,
           0,
           0,
           0
          ],
          "coloraxis": "coloraxis",
          "symbol": "diamond"
         },
         "mode": "markers",
         "name": "0.4",
         "scene": "scene",
         "showlegend": true,
         "type": "scatter3d",
         "x": [
          5.4,
          5.7,
          5.4,
          5.1,
          5,
          5.4,
          5.1
         ],
         "y": [
          3.9,
          4.4,
          3.9,
          3.7,
          3.4,
          3.4,
          3.8
         ],
         "z": [
          1.7,
          1.5,
          1.3,
          1.5,
          1.6,
          1.5,
          1.9
         ]
        },
        {
         "hovertemplate": "petal width (cm)=0.3<br>sepal length (cm)=%{x}<br>sepal width (cm)=%{y}<br>petal length (cm)=%{z}<br>Type=%{marker.color}<extra></extra>",
         "legendgroup": "0.3",
         "marker": {
          "color": [
           0,
           0,
           0,
           0,
           0,
           0,
           0
          ],
          "coloraxis": "coloraxis",
          "symbol": "square"
         },
         "mode": "markers",
         "name": "0.3",
         "scene": "scene",
         "showlegend": true,
         "type": "scatter3d",
         "x": [
          4.6,
          5.1,
          5.7,
          5.1,
          5,
          4.5,
          4.8
         ],
         "y": [
          3.4,
          3.5,
          3.8,
          3.8,
          3.5,
          2.3,
          3
         ],
         "z": [
          1.4,
          1.4,
          1.7,
          1.5,
          1.3,
          1.3,
          1.4
         ]
        },
        {
         "hovertemplate": "petal width (cm)=0.1<br>sepal length (cm)=%{x}<br>sepal width (cm)=%{y}<br>petal length (cm)=%{z}<br>Type=%{marker.color}<extra></extra>",
         "legendgroup": "0.1",
         "marker": {
          "color": [
           0,
           0,
           0,
           0,
           0
          ],
          "coloraxis": "coloraxis",
          "symbol": "x"
         },
         "mode": "markers",
         "name": "0.1",
         "scene": "scene",
         "showlegend": true,
         "type": "scatter3d",
         "x": [
          4.9,
          4.8,
          4.3,
          5.2,
          4.9
         ],
         "y": [
          3.1,
          3,
          3,
          4.1,
          3.6
         ],
         "z": [
          1.5,
          1.4,
          1.1,
          1.5,
          1.4
         ]
        },
        {
         "hovertemplate": "petal width (cm)=0.5<br>sepal length (cm)=%{x}<br>sepal width (cm)=%{y}<br>petal length (cm)=%{z}<br>Type=%{marker.color}<extra></extra>",
         "legendgroup": "0.5",
         "marker": {
          "color": [
           0
          ],
          "coloraxis": "coloraxis",
          "symbol": "cross"
         },
         "mode": "markers",
         "name": "0.5",
         "scene": "scene",
         "showlegend": true,
         "type": "scatter3d",
         "x": [
          5.1
         ],
         "y": [
          3.3
         ],
         "z": [
          1.7
         ]
        },
        {
         "hovertemplate": "petal width (cm)=0.6<br>sepal length (cm)=%{x}<br>sepal width (cm)=%{y}<br>petal length (cm)=%{z}<br>Type=%{marker.color}<extra></extra>",
         "legendgroup": "0.6",
         "marker": {
          "color": [
           0
          ],
          "coloraxis": "coloraxis",
          "symbol": "circle"
         },
         "mode": "markers",
         "name": "0.6",
         "scene": "scene",
         "showlegend": true,
         "type": "scatter3d",
         "x": [
          5
         ],
         "y": [
          3.5
         ],
         "z": [
          1.6
         ]
        },
        {
         "hovertemplate": "petal width (cm)=1.4<br>sepal length (cm)=%{x}<br>sepal width (cm)=%{y}<br>petal length (cm)=%{z}<br>Type=%{marker.color}<extra></extra>",
         "legendgroup": "1.4",
         "marker": {
          "color": [
           1,
           1,
           1,
           1,
           1,
           1,
           1,
           2
          ],
          "coloraxis": "coloraxis",
          "symbol": "diamond"
         },
         "mode": "markers",
         "name": "1.4",
         "scene": "scene",
         "showlegend": true,
         "type": "scatter3d",
         "x": [
          7,
          5.2,
          6.1,
          6.7,
          6.6,
          6.8,
          6.1,
          6.1
         ],
         "y": [
          3.2,
          2.7,
          2.9,
          3.1,
          3,
          2.8,
          3,
          2.6
         ],
         "z": [
          4.7,
          3.9,
          4.7,
          4.4,
          4.4,
          4.8,
          4.6,
          5.6
         ]
        },
        {
         "hovertemplate": "petal width (cm)=1.5<br>sepal length (cm)=%{x}<br>sepal width (cm)=%{y}<br>petal length (cm)=%{z}<br>Type=%{marker.color}<extra></extra>",
         "legendgroup": "1.5",
         "marker": {
          "color": [
           1,
           1,
           1,
           1,
           1,
           1,
           1,
           1,
           1,
           1,
           2,
           2
          ],
          "coloraxis": "coloraxis",
          "symbol": "square"
         },
         "mode": "markers",
         "name": "1.5",
         "scene": "scene",
         "showlegend": true,
         "type": "scatter3d",
         "x": [
          6.4,
          6.9,
          6.5,
          5.9,
          5.6,
          6.2,
          6.3,
          6,
          5.4,
          6.7,
          6,
          6.3
         ],
         "y": [
          3.2,
          3.1,
          2.8,
          3,
          3,
          2.2,
          2.5,
          2.9,
          3,
          3.1,
          2.2,
          2.8
         ],
         "z": [
          4.5,
          4.9,
          4.6,
          4.2,
          4.5,
          4.5,
          4.9,
          4.5,
          4.5,
          4.7,
          5,
          5.1
         ]
        },
        {
         "hovertemplate": "petal width (cm)=1.3<br>sepal length (cm)=%{x}<br>sepal width (cm)=%{y}<br>petal length (cm)=%{z}<br>Type=%{marker.color}<extra></extra>",
         "legendgroup": "1.3",
         "marker": {
          "color": [
           1,
           1,
           1,
           1,
           1,
           1,
           1,
           1,
           1,
           1,
           1,
           1,
           1
          ],
          "coloraxis": "coloraxis",
          "symbol": "x"
         },
         "mode": "markers",
         "name": "1.3",
         "scene": "scene",
         "showlegend": true,
         "type": "scatter3d",
         "x": [
          5.5,
          5.7,
          6.6,
          5.6,
          6.1,
          6.4,
          6.3,
          5.6,
          5.5,
          5.6,
          5.7,
          6.2,
          5.7
         ],
         "y": [
          2.3,
          2.8,
          2.9,
          2.9,
          2.8,
          2.9,
          2.3,
          3,
          2.5,
          2.7,
          2.9,
          2.9,
          2.8
         ],
         "z": [
          4,
          4.5,
          4.6,
          3.6,
          4,
          4.3,
          4.4,
          4.1,
          4,
          4.2,
          4.2,
          4.3,
          4.1
         ]
        },
        {
         "hovertemplate": "petal width (cm)=1.6<br>sepal length (cm)=%{x}<br>sepal width (cm)=%{y}<br>petal length (cm)=%{z}<br>Type=%{marker.color}<extra></extra>",
         "legendgroup": "1.6",
         "marker": {
          "color": [
           1,
           1,
           1,
           2
          ],
          "coloraxis": "coloraxis",
          "symbol": "cross"
         },
         "mode": "markers",
         "name": "1.6",
         "scene": "scene",
         "showlegend": true,
         "type": "scatter3d",
         "x": [
          6.3,
          6,
          6,
          7.2
         ],
         "y": [
          3.3,
          2.7,
          3.4,
          3
         ],
         "z": [
          4.7,
          5.1,
          4.5,
          5.8
         ]
        },
        {
         "hovertemplate": "petal width (cm)=1.0<br>sepal length (cm)=%{x}<br>sepal width (cm)=%{y}<br>petal length (cm)=%{z}<br>Type=%{marker.color}<extra></extra>",
         "legendgroup": "1.0",
         "marker": {
          "color": [
           1,
           1,
           1,
           1,
           1,
           1,
           1
          ],
          "coloraxis": "coloraxis",
          "symbol": "circle"
         },
         "mode": "markers",
         "name": "1.0",
         "scene": "scene",
         "showlegend": true,
         "type": "scatter3d",
         "x": [
          4.9,
          5,
          6,
          5.8,
          5.7,
          5.5,
          5
         ],
         "y": [
          2.4,
          2,
          2.2,
          2.7,
          2.6,
          2.4,
          2.3
         ],
         "z": [
          3.3,
          3.5,
          4,
          4.1,
          3.5,
          3.7,
          3.3
         ]
        },
        {
         "hovertemplate": "petal width (cm)=1.1<br>sepal length (cm)=%{x}<br>sepal width (cm)=%{y}<br>petal length (cm)=%{z}<br>Type=%{marker.color}<extra></extra>",
         "legendgroup": "1.1",
         "marker": {
          "color": [
           1,
           1,
           1
          ],
          "coloraxis": "coloraxis",
          "symbol": "diamond"
         },
         "mode": "markers",
         "name": "1.1",
         "scene": "scene",
         "showlegend": true,
         "type": "scatter3d",
         "x": [
          5.6,
          5.5,
          5.1
         ],
         "y": [
          2.5,
          2.4,
          2.5
         ],
         "z": [
          3.9,
          3.8,
          3
         ]
        },
        {
         "hovertemplate": "petal width (cm)=1.8<br>sepal length (cm)=%{x}<br>sepal width (cm)=%{y}<br>petal length (cm)=%{z}<br>Type=%{marker.color}<extra></extra>",
         "legendgroup": "1.8",
         "marker": {
          "color": [
           1,
           2,
           2,
           2,
           2,
           2,
           2,
           2,
           2,
           2,
           2,
           2
          ],
          "coloraxis": "coloraxis",
          "symbol": "square"
         },
         "mode": "markers",
         "name": "1.8",
         "scene": "scene",
         "showlegend": true,
         "type": "scatter3d",
         "x": [
          5.9,
          6.3,
          7.3,
          6.7,
          6.5,
          6.3,
          7.2,
          6.2,
          6.1,
          6.4,
          6,
          5.9
         ],
         "y": [
          3.2,
          2.9,
          2.9,
          2.5,
          3,
          2.7,
          3.2,
          2.8,
          3,
          3.1,
          3,
          3
         ],
         "z": [
          4.8,
          5.6,
          6.3,
          5.8,
          5.5,
          4.9,
          6,
          4.8,
          4.9,
          5.5,
          4.8,
          5.1
         ]
        },
        {
         "hovertemplate": "petal width (cm)=1.2<br>sepal length (cm)=%{x}<br>sepal width (cm)=%{y}<br>petal length (cm)=%{z}<br>Type=%{marker.color}<extra></extra>",
         "legendgroup": "1.2",
         "marker": {
          "color": [
           1,
           1,
           1,
           1,
           1
          ],
          "coloraxis": "coloraxis",
          "symbol": "x"
         },
         "mode": "markers",
         "name": "1.2",
         "scene": "scene",
         "showlegend": true,
         "type": "scatter3d",
         "x": [
          6.1,
          5.8,
          5.5,
          5.8,
          5.7
         ],
         "y": [
          2.8,
          2.7,
          2.6,
          2.6,
          3
         ],
         "z": [
          4.7,
          3.9,
          4.4,
          4,
          4.2
         ]
        },
        {
         "hovertemplate": "petal width (cm)=1.7<br>sepal length (cm)=%{x}<br>sepal width (cm)=%{y}<br>petal length (cm)=%{z}<br>Type=%{marker.color}<extra></extra>",
         "legendgroup": "1.7",
         "marker": {
          "color": [
           1,
           2
          ],
          "coloraxis": "coloraxis",
          "symbol": "cross"
         },
         "mode": "markers",
         "name": "1.7",
         "scene": "scene",
         "showlegend": true,
         "type": "scatter3d",
         "x": [
          6.7,
          4.9
         ],
         "y": [
          3,
          2.5
         ],
         "z": [
          5,
          4.5
         ]
        },
        {
         "hovertemplate": "petal width (cm)=2.5<br>sepal length (cm)=%{x}<br>sepal width (cm)=%{y}<br>petal length (cm)=%{z}<br>Type=%{marker.color}<extra></extra>",
         "legendgroup": "2.5",
         "marker": {
          "color": [
           2,
           2,
           2
          ],
          "coloraxis": "coloraxis",
          "symbol": "circle"
         },
         "mode": "markers",
         "name": "2.5",
         "scene": "scene",
         "showlegend": true,
         "type": "scatter3d",
         "x": [
          6.3,
          7.2,
          6.7
         ],
         "y": [
          3.3,
          3.6,
          3.3
         ],
         "z": [
          6,
          6.1,
          5.7
         ]
        },
        {
         "hovertemplate": "petal width (cm)=1.9<br>sepal length (cm)=%{x}<br>sepal width (cm)=%{y}<br>petal length (cm)=%{z}<br>Type=%{marker.color}<extra></extra>",
         "legendgroup": "1.9",
         "marker": {
          "color": [
           2,
           2,
           2,
           2,
           2
          ],
          "coloraxis": "coloraxis",
          "symbol": "diamond"
         },
         "mode": "markers",
         "name": "1.9",
         "scene": "scene",
         "showlegend": true,
         "type": "scatter3d",
         "x": [
          5.8,
          6.4,
          7.4,
          5.8,
          6.3
         ],
         "y": [
          2.7,
          2.7,
          2.8,
          2.7,
          2.5
         ],
         "z": [
          5.1,
          5.3,
          6.1,
          5.1,
          5
         ]
        },
        {
         "hovertemplate": "petal width (cm)=2.1<br>sepal length (cm)=%{x}<br>sepal width (cm)=%{y}<br>petal length (cm)=%{z}<br>Type=%{marker.color}<extra></extra>",
         "legendgroup": "2.1",
         "marker": {
          "color": [
           2,
           2,
           2,
           2,
           2,
           2
          ],
          "coloraxis": "coloraxis",
          "symbol": "square"
         },
         "mode": "markers",
         "name": "2.1",
         "scene": "scene",
         "showlegend": true,
         "type": "scatter3d",
         "x": [
          7.1,
          7.6,
          6.8,
          6.7,
          6.4,
          6.9
         ],
         "y": [
          3,
          3,
          3,
          3.3,
          2.8,
          3.1
         ],
         "z": [
          5.9,
          6.6,
          5.5,
          5.7,
          5.6,
          5.4
         ]
        },
        {
         "hovertemplate": "petal width (cm)=2.2<br>sepal length (cm)=%{x}<br>sepal width (cm)=%{y}<br>petal length (cm)=%{z}<br>Type=%{marker.color}<extra></extra>",
         "legendgroup": "2.2",
         "marker": {
          "color": [
           2,
           2,
           2
          ],
          "coloraxis": "coloraxis",
          "symbol": "x"
         },
         "mode": "markers",
         "name": "2.2",
         "scene": "scene",
         "showlegend": true,
         "type": "scatter3d",
         "x": [
          6.5,
          7.7,
          6.4
         ],
         "y": [
          3,
          3.8,
          2.8
         ],
         "z": [
          5.8,
          6.7,
          5.6
         ]
        },
        {
         "hovertemplate": "petal width (cm)=2.0<br>sepal length (cm)=%{x}<br>sepal width (cm)=%{y}<br>petal length (cm)=%{z}<br>Type=%{marker.color}<extra></extra>",
         "legendgroup": "2.0",
         "marker": {
          "color": [
           2,
           2,
           2,
           2,
           2,
           2
          ],
          "coloraxis": "coloraxis",
          "symbol": "cross"
         },
         "mode": "markers",
         "name": "2.0",
         "scene": "scene",
         "showlegend": true,
         "type": "scatter3d",
         "x": [
          6.5,
          5.7,
          5.6,
          7.7,
          7.9,
          6.5
         ],
         "y": [
          3.2,
          2.5,
          2.8,
          2.8,
          3.8,
          3
         ],
         "z": [
          5.1,
          5,
          4.9,
          6.7,
          6.4,
          5.2
         ]
        },
        {
         "hovertemplate": "petal width (cm)=2.4<br>sepal length (cm)=%{x}<br>sepal width (cm)=%{y}<br>petal length (cm)=%{z}<br>Type=%{marker.color}<extra></extra>",
         "legendgroup": "2.4",
         "marker": {
          "color": [
           2,
           2,
           2
          ],
          "coloraxis": "coloraxis",
          "symbol": "circle"
         },
         "mode": "markers",
         "name": "2.4",
         "scene": "scene",
         "showlegend": true,
         "type": "scatter3d",
         "x": [
          5.8,
          6.3,
          6.7
         ],
         "y": [
          2.8,
          3.4,
          3.1
         ],
         "z": [
          5.1,
          5.6,
          5.6
         ]
        },
        {
         "hovertemplate": "petal width (cm)=2.3<br>sepal length (cm)=%{x}<br>sepal width (cm)=%{y}<br>petal length (cm)=%{z}<br>Type=%{marker.color}<extra></extra>",
         "legendgroup": "2.3",
         "marker": {
          "color": [
           2,
           2,
           2,
           2,
           2,
           2,
           2,
           2
          ],
          "coloraxis": "coloraxis",
          "symbol": "diamond"
         },
         "mode": "markers",
         "name": "2.3",
         "scene": "scene",
         "showlegend": true,
         "type": "scatter3d",
         "x": [
          6.4,
          7.7,
          6.9,
          7.7,
          6.9,
          6.8,
          6.7,
          6.2
         ],
         "y": [
          3.2,
          2.6,
          3.2,
          3,
          3.1,
          3.2,
          3,
          3.4
         ],
         "z": [
          5.3,
          6.9,
          5.7,
          6.1,
          5.1,
          5.9,
          5.2,
          5.4
         ]
        }
       ],
       "layout": {
        "coloraxis": {
         "colorbar": {
          "title": {
           "text": "Type"
          }
         },
         "colorscale": [
          [
           0,
           "#0d0887"
          ],
          [
           0.1111111111111111,
           "#46039f"
          ],
          [
           0.2222222222222222,
           "#7201a8"
          ],
          [
           0.3333333333333333,
           "#9c179e"
          ],
          [
           0.4444444444444444,
           "#bd3786"
          ],
          [
           0.5555555555555556,
           "#d8576b"
          ],
          [
           0.6666666666666666,
           "#ed7953"
          ],
          [
           0.7777777777777778,
           "#fb9f3a"
          ],
          [
           0.8888888888888888,
           "#fdca26"
          ],
          [
           1,
           "#f0f921"
          ]
         ]
        },
        "legend": {
         "orientation": "v",
         "title": {
          "text": "petal width (cm)"
         },
         "tracegroupgap": 0,
         "xanchor": "right",
         "yanchor": "top"
        },
        "scene": {
         "domain": {
          "x": [
           0,
           1
          ],
          "y": [
           0,
           1
          ]
         },
         "xaxis": {
          "title": {
           "text": "sepal length (cm)"
          }
         },
         "yaxis": {
          "title": {
           "text": "sepal width (cm)"
          }
         },
         "zaxis": {
          "title": {
           "text": "petal length (cm)"
          }
         }
        },
        "template": {
         "data": {
          "bar": [
           {
            "error_x": {
             "color": "#2a3f5f"
            },
            "error_y": {
             "color": "#2a3f5f"
            },
            "marker": {
             "line": {
              "color": "#E5ECF6",
              "width": 0.5
             },
             "pattern": {
              "fillmode": "overlay",
              "size": 10,
              "solidity": 0.2
             }
            },
            "type": "bar"
           }
          ],
          "barpolar": [
           {
            "marker": {
             "line": {
              "color": "#E5ECF6",
              "width": 0.5
             },
             "pattern": {
              "fillmode": "overlay",
              "size": 10,
              "solidity": 0.2
             }
            },
            "type": "barpolar"
           }
          ],
          "carpet": [
           {
            "aaxis": {
             "endlinecolor": "#2a3f5f",
             "gridcolor": "white",
             "linecolor": "white",
             "minorgridcolor": "white",
             "startlinecolor": "#2a3f5f"
            },
            "baxis": {
             "endlinecolor": "#2a3f5f",
             "gridcolor": "white",
             "linecolor": "white",
             "minorgridcolor": "white",
             "startlinecolor": "#2a3f5f"
            },
            "type": "carpet"
           }
          ],
          "choropleth": [
           {
            "colorbar": {
             "outlinewidth": 0,
             "ticks": ""
            },
            "type": "choropleth"
           }
          ],
          "contour": [
           {
            "colorbar": {
             "outlinewidth": 0,
             "ticks": ""
            },
            "colorscale": [
             [
              0,
              "#0d0887"
             ],
             [
              0.1111111111111111,
              "#46039f"
             ],
             [
              0.2222222222222222,
              "#7201a8"
             ],
             [
              0.3333333333333333,
              "#9c179e"
             ],
             [
              0.4444444444444444,
              "#bd3786"
             ],
             [
              0.5555555555555556,
              "#d8576b"
             ],
             [
              0.6666666666666666,
              "#ed7953"
             ],
             [
              0.7777777777777778,
              "#fb9f3a"
             ],
             [
              0.8888888888888888,
              "#fdca26"
             ],
             [
              1,
              "#f0f921"
             ]
            ],
            "type": "contour"
           }
          ],
          "contourcarpet": [
           {
            "colorbar": {
             "outlinewidth": 0,
             "ticks": ""
            },
            "type": "contourcarpet"
           }
          ],
          "heatmap": [
           {
            "colorbar": {
             "outlinewidth": 0,
             "ticks": ""
            },
            "colorscale": [
             [
              0,
              "#0d0887"
             ],
             [
              0.1111111111111111,
              "#46039f"
             ],
             [
              0.2222222222222222,
              "#7201a8"
             ],
             [
              0.3333333333333333,
              "#9c179e"
             ],
             [
              0.4444444444444444,
              "#bd3786"
             ],
             [
              0.5555555555555556,
              "#d8576b"
             ],
             [
              0.6666666666666666,
              "#ed7953"
             ],
             [
              0.7777777777777778,
              "#fb9f3a"
             ],
             [
              0.8888888888888888,
              "#fdca26"
             ],
             [
              1,
              "#f0f921"
             ]
            ],
            "type": "heatmap"
           }
          ],
          "heatmapgl": [
           {
            "colorbar": {
             "outlinewidth": 0,
             "ticks": ""
            },
            "colorscale": [
             [
              0,
              "#0d0887"
             ],
             [
              0.1111111111111111,
              "#46039f"
             ],
             [
              0.2222222222222222,
              "#7201a8"
             ],
             [
              0.3333333333333333,
              "#9c179e"
             ],
             [
              0.4444444444444444,
              "#bd3786"
             ],
             [
              0.5555555555555556,
              "#d8576b"
             ],
             [
              0.6666666666666666,
              "#ed7953"
             ],
             [
              0.7777777777777778,
              "#fb9f3a"
             ],
             [
              0.8888888888888888,
              "#fdca26"
             ],
             [
              1,
              "#f0f921"
             ]
            ],
            "type": "heatmapgl"
           }
          ],
          "histogram": [
           {
            "marker": {
             "pattern": {
              "fillmode": "overlay",
              "size": 10,
              "solidity": 0.2
             }
            },
            "type": "histogram"
           }
          ],
          "histogram2d": [
           {
            "colorbar": {
             "outlinewidth": 0,
             "ticks": ""
            },
            "colorscale": [
             [
              0,
              "#0d0887"
             ],
             [
              0.1111111111111111,
              "#46039f"
             ],
             [
              0.2222222222222222,
              "#7201a8"
             ],
             [
              0.3333333333333333,
              "#9c179e"
             ],
             [
              0.4444444444444444,
              "#bd3786"
             ],
             [
              0.5555555555555556,
              "#d8576b"
             ],
             [
              0.6666666666666666,
              "#ed7953"
             ],
             [
              0.7777777777777778,
              "#fb9f3a"
             ],
             [
              0.8888888888888888,
              "#fdca26"
             ],
             [
              1,
              "#f0f921"
             ]
            ],
            "type": "histogram2d"
           }
          ],
          "histogram2dcontour": [
           {
            "colorbar": {
             "outlinewidth": 0,
             "ticks": ""
            },
            "colorscale": [
             [
              0,
              "#0d0887"
             ],
             [
              0.1111111111111111,
              "#46039f"
             ],
             [
              0.2222222222222222,
              "#7201a8"
             ],
             [
              0.3333333333333333,
              "#9c179e"
             ],
             [
              0.4444444444444444,
              "#bd3786"
             ],
             [
              0.5555555555555556,
              "#d8576b"
             ],
             [
              0.6666666666666666,
              "#ed7953"
             ],
             [
              0.7777777777777778,
              "#fb9f3a"
             ],
             [
              0.8888888888888888,
              "#fdca26"
             ],
             [
              1,
              "#f0f921"
             ]
            ],
            "type": "histogram2dcontour"
           }
          ],
          "mesh3d": [
           {
            "colorbar": {
             "outlinewidth": 0,
             "ticks": ""
            },
            "type": "mesh3d"
           }
          ],
          "parcoords": [
           {
            "line": {
             "colorbar": {
              "outlinewidth": 0,
              "ticks": ""
             }
            },
            "type": "parcoords"
           }
          ],
          "pie": [
           {
            "automargin": true,
            "type": "pie"
           }
          ],
          "scatter": [
           {
            "fillpattern": {
             "fillmode": "overlay",
             "size": 10,
             "solidity": 0.2
            },
            "type": "scatter"
           }
          ],
          "scatter3d": [
           {
            "line": {
             "colorbar": {
              "outlinewidth": 0,
              "ticks": ""
             }
            },
            "marker": {
             "colorbar": {
              "outlinewidth": 0,
              "ticks": ""
             }
            },
            "type": "scatter3d"
           }
          ],
          "scattercarpet": [
           {
            "marker": {
             "colorbar": {
              "outlinewidth": 0,
              "ticks": ""
             }
            },
            "type": "scattercarpet"
           }
          ],
          "scattergeo": [
           {
            "marker": {
             "colorbar": {
              "outlinewidth": 0,
              "ticks": ""
             }
            },
            "type": "scattergeo"
           }
          ],
          "scattergl": [
           {
            "marker": {
             "colorbar": {
              "outlinewidth": 0,
              "ticks": ""
             }
            },
            "type": "scattergl"
           }
          ],
          "scattermapbox": [
           {
            "marker": {
             "colorbar": {
              "outlinewidth": 0,
              "ticks": ""
             }
            },
            "type": "scattermapbox"
           }
          ],
          "scatterpolar": [
           {
            "marker": {
             "colorbar": {
              "outlinewidth": 0,
              "ticks": ""
             }
            },
            "type": "scatterpolar"
           }
          ],
          "scatterpolargl": [
           {
            "marker": {
             "colorbar": {
              "outlinewidth": 0,
              "ticks": ""
             }
            },
            "type": "scatterpolargl"
           }
          ],
          "scatterternary": [
           {
            "marker": {
             "colorbar": {
              "outlinewidth": 0,
              "ticks": ""
             }
            },
            "type": "scatterternary"
           }
          ],
          "surface": [
           {
            "colorbar": {
             "outlinewidth": 0,
             "ticks": ""
            },
            "colorscale": [
             [
              0,
              "#0d0887"
             ],
             [
              0.1111111111111111,
              "#46039f"
             ],
             [
              0.2222222222222222,
              "#7201a8"
             ],
             [
              0.3333333333333333,
              "#9c179e"
             ],
             [
              0.4444444444444444,
              "#bd3786"
             ],
             [
              0.5555555555555556,
              "#d8576b"
             ],
             [
              0.6666666666666666,
              "#ed7953"
             ],
             [
              0.7777777777777778,
              "#fb9f3a"
             ],
             [
              0.8888888888888888,
              "#fdca26"
             ],
             [
              1,
              "#f0f921"
             ]
            ],
            "type": "surface"
           }
          ],
          "table": [
           {
            "cells": {
             "fill": {
              "color": "#EBF0F8"
             },
             "line": {
              "color": "white"
             }
            },
            "header": {
             "fill": {
              "color": "#C8D4E3"
             },
             "line": {
              "color": "white"
             }
            },
            "type": "table"
           }
          ]
         },
         "layout": {
          "annotationdefaults": {
           "arrowcolor": "#2a3f5f",
           "arrowhead": 0,
           "arrowwidth": 1
          },
          "autotypenumbers": "strict",
          "coloraxis": {
           "colorbar": {
            "outlinewidth": 0,
            "ticks": ""
           }
          },
          "colorscale": {
           "diverging": [
            [
             0,
             "#8e0152"
            ],
            [
             0.1,
             "#c51b7d"
            ],
            [
             0.2,
             "#de77ae"
            ],
            [
             0.3,
             "#f1b6da"
            ],
            [
             0.4,
             "#fde0ef"
            ],
            [
             0.5,
             "#f7f7f7"
            ],
            [
             0.6,
             "#e6f5d0"
            ],
            [
             0.7,
             "#b8e186"
            ],
            [
             0.8,
             "#7fbc41"
            ],
            [
             0.9,
             "#4d9221"
            ],
            [
             1,
             "#276419"
            ]
           ],
           "sequential": [
            [
             0,
             "#0d0887"
            ],
            [
             0.1111111111111111,
             "#46039f"
            ],
            [
             0.2222222222222222,
             "#7201a8"
            ],
            [
             0.3333333333333333,
             "#9c179e"
            ],
            [
             0.4444444444444444,
             "#bd3786"
            ],
            [
             0.5555555555555556,
             "#d8576b"
            ],
            [
             0.6666666666666666,
             "#ed7953"
            ],
            [
             0.7777777777777778,
             "#fb9f3a"
            ],
            [
             0.8888888888888888,
             "#fdca26"
            ],
            [
             1,
             "#f0f921"
            ]
           ],
           "sequentialminus": [
            [
             0,
             "#0d0887"
            ],
            [
             0.1111111111111111,
             "#46039f"
            ],
            [
             0.2222222222222222,
             "#7201a8"
            ],
            [
             0.3333333333333333,
             "#9c179e"
            ],
            [
             0.4444444444444444,
             "#bd3786"
            ],
            [
             0.5555555555555556,
             "#d8576b"
            ],
            [
             0.6666666666666666,
             "#ed7953"
            ],
            [
             0.7777777777777778,
             "#fb9f3a"
            ],
            [
             0.8888888888888888,
             "#fdca26"
            ],
            [
             1,
             "#f0f921"
            ]
           ]
          },
          "colorway": [
           "#636efa",
           "#EF553B",
           "#00cc96",
           "#ab63fa",
           "#FFA15A",
           "#19d3f3",
           "#FF6692",
           "#B6E880",
           "#FF97FF",
           "#FECB52"
          ],
          "font": {
           "color": "#2a3f5f"
          },
          "geo": {
           "bgcolor": "white",
           "lakecolor": "white",
           "landcolor": "#E5ECF6",
           "showlakes": true,
           "showland": true,
           "subunitcolor": "white"
          },
          "hoverlabel": {
           "align": "left"
          },
          "hovermode": "closest",
          "mapbox": {
           "style": "light"
          },
          "paper_bgcolor": "white",
          "plot_bgcolor": "#E5ECF6",
          "polar": {
           "angularaxis": {
            "gridcolor": "white",
            "linecolor": "white",
            "ticks": ""
           },
           "bgcolor": "#E5ECF6",
           "radialaxis": {
            "gridcolor": "white",
            "linecolor": "white",
            "ticks": ""
           }
          },
          "scene": {
           "xaxis": {
            "backgroundcolor": "#E5ECF6",
            "gridcolor": "white",
            "gridwidth": 2,
            "linecolor": "white",
            "showbackground": true,
            "ticks": "",
            "zerolinecolor": "white"
           },
           "yaxis": {
            "backgroundcolor": "#E5ECF6",
            "gridcolor": "white",
            "gridwidth": 2,
            "linecolor": "white",
            "showbackground": true,
            "ticks": "",
            "zerolinecolor": "white"
           },
           "zaxis": {
            "backgroundcolor": "#E5ECF6",
            "gridcolor": "white",
            "gridwidth": 2,
            "linecolor": "white",
            "showbackground": true,
            "ticks": "",
            "zerolinecolor": "white"
           }
          },
          "shapedefaults": {
           "line": {
            "color": "#2a3f5f"
           }
          },
          "ternary": {
           "aaxis": {
            "gridcolor": "white",
            "linecolor": "white",
            "ticks": ""
           },
           "baxis": {
            "gridcolor": "white",
            "linecolor": "white",
            "ticks": ""
           },
           "bgcolor": "#E5ECF6",
           "caxis": {
            "gridcolor": "white",
            "linecolor": "white",
            "ticks": ""
           }
          },
          "title": {
           "x": 0.05
          },
          "xaxis": {
           "automargin": true,
           "gridcolor": "white",
           "linecolor": "white",
           "ticks": "",
           "title": {
            "standoff": 15
           },
           "zerolinecolor": "white",
           "zerolinewidth": 2
          },
          "yaxis": {
           "automargin": true,
           "gridcolor": "white",
           "linecolor": "white",
           "ticks": "",
           "title": {
            "standoff": 15
           },
           "zerolinecolor": "white",
           "zerolinewidth": 2
          }
         }
        },
        "title": {
         "text": "Initial data for flowers"
        }
       }
      }
     },
     "metadata": {},
     "output_type": "display_data"
    },
    {
     "data": {
      "image/png": "[encoded data removed]",
      "text/plain": [
       "<Figure size 640x480 with 1 Axes>"
      ]
     },
     "metadata": {},
     "output_type": "display_data"
    },
    {
     "data": {
      "image/png": "[encoded data removed]",
      "text/plain": [
       "<Figure size 640x480 with 1 Axes>"
      ]
     },
     "metadata": {},
     "output_type": "display_data"
    },
    {
     "data": {
      "image/png": "[encoded data removed]",
      "text/plain": [
       "<Figure size 640x480 with 1 Axes>"
      ]
     },
     "metadata": {},
     "output_type": "display_data"
    },
    {
     "data": {
      "image/png": "[encoded data removed]",
      "text/plain": [
       "<Figure size 640x480 with 1 Axes>"
      ]
     },
     "metadata": {},
     "output_type": "display_data"
    },
    {
     "data": {
      "image/png": "[encoded data removed]",
      "text/plain": [
       "<Figure size 640x480 with 1 Axes>"
      ]
     },
     "metadata": {},
     "output_type": "display_data"
    },
    {
     "name": "stdout",
     "output_type": "stream",
     "text": [
      "Classification model by tool first label: y = -0.35472497903714406 + -0.9302715088643246 * feat1 + 1.2712651293349715 * feat2 + -1.739453672820519 * feat3 + -1.701051351925749 * feat4\n",
      "Classification model by tool second label: y = 1.9977923675513236 + 0.4567399765891757 * feat1 + -0.3946290567980388 * feat2 + -0.387053754997103 * feat3 + -0.738333345019013 * feat4\n",
      "Classification model by tool third label: y = -1.6430673885141802 + 0.47353153227514805 * feat1 + -0.876636072536933 * feat2 + 2.1265074278176215 * feat3 + 2.4393846969447623 * feat4\n",
      "Accuracy score: 0.9333333333333333\n"
     ]
    },
    {
     "data": {
      "image/png": "[encoded data removed]",
      "text/plain": [
       "<Figure size 640x480 with 1 Axes>"
      ]
     },
     "metadata": {},
     "output_type": "display_data"
    },
    {
     "name": "stdout",
     "output_type": "stream",
     "text": [
      "Classification error by tool : 0.06666666666666667\n",
      "\n",
      "Classification model by me first label: y = -0.8269941682893733 + -0.6382802234349285 * feat1 + 1.1880548338079584 * feat2 + -0.985810100239906 * feat3 + -0.9209007429283396 * feat4\n",
      "Classification model by me second label: y = -0.5532000025481743 + -0.1412789100528649 * feat1 + -0.8353836453201536 * feat2 + 0.08959995941380422 * feat3 + 0.058243208315254855 * feat4\n",
      "Classification model by me third label: y = -0.9881493822436807 + 0.49310991870400744 * feat1 + 0.2890049929431884 * feat2 + 1.105075602795666 * feat3 + 1.0109075624375035 * feat4\n",
      "Accuracy score: 0.9\n"
     ]
    },
    {
     "data": {
      "image/png": "[encoded data removed]",
      "text/plain": [
       "<Figure size 640x480 with 1 Axes>"
      ]
     },
     "metadata": {},
     "output_type": "display_data"
    },
    {
     "name": "stdout",
     "output_type": "stream",
     "text": [
      "Classification error by me : 0.1\n",
      "\n",
      "Cross validation:\n",
      "Classification model by me first label: y = -0.5354554214690423 + -0.6224565469148967 * feat1 + 1.3204794298079228 * feat2 + -1.1680979509370784 * feat3 + -1.047022291340763 * feat4\n",
      "Classification model by me second label: y = -0.6024378667112545 + 0.23518291869522934 * feat1 + -0.8117838965041744 * feat2 + 0.4629585750399296 * feat3 + -0.386487739566793 * feat4\n",
      "Classification model by me third label: y = -1.2176511748542505 + 0.13594604037245023 * feat1 + 0.41388733887264395 * feat2 + 1.2674695823830748 * feat3 + 0.9923172930498638 * feat4\n",
      "Accuracy score: 0.9666666666666667\n",
      "Classification error by me : 0.03333333333333333\n",
      "\n",
      "Classification model by me first label: y = -0.648868392829504 + -0.7965592347837926 * feat1 + 1.1181539479963591 * feat2 + -1.003199158409441 * feat3 + -0.9735214135784696 * feat4\n",
      "Classification model by me second label: y = -0.8082481186384063 + 0.12420871904408037 * feat1 + -0.9697933285539886 * feat2 + 0.0818659244651751 * feat3 + -0.14465038475684958 * feat4\n",
      "Classification model by me third label: y = -0.9532510081204338 + 0.3210800723455863 * feat1 + 0.3021825566982724 * feat2 + 0.8422387130056723 * feat3 + 1.446408573207586 * feat4\n",
      "Accuracy score: 0.7666666666666667\n",
      "Classification error by me : 0.23333333333333334\n",
      "\n",
      "Classification model by me first label: y = -0.6318931432987003 + -0.4373106316586973 * feat1 + 1.335275632617824 * feat2 + -1.3317287963690818 * feat3 + -0.9581907917624164 * feat4\n",
      "Classification model by me second label: y = -0.6814666810203556 + -0.2693059830771511 * feat1 + -0.8519467358247286 * feat2 + 0.4862764977789201 * feat3 + -0.18696394463367114 * feat4\n",
      "Classification model by me third label: y = -0.8390421777388009 + 0.34470699045007114 * feat1 + 0.4130018823234433 * feat2 + 0.7163111600589447 * feat3 + 1.55009125899135 * feat4\n",
      "Accuracy score: 0.8666666666666667\n",
      "Classification error by me : 0.13333333333333333\n",
      "\n",
      "Classification model by me first label: y = -0.8552874608663699 + -1.0161774012122045 * feat1 + 1.2423915788449305 * feat2 + -0.6859646841463921 * feat3 + -1.0322552950607804 * feat4\n",
      "Classification model by me second label: y = -0.705948584046832 + 0.06356692159676992 * feat1 + -0.9501463114667809 * feat2 + 0.013439755356423702 * feat3 + -0.03381493446835797 * feat4\n",
      "Classification model by me third label: y = -0.9602709679102472 + 0.5685624907541281 * feat1 + 0.4216413465554558 * feat2 + 0.9428696310192834 * feat3 + 1.1072088465787586 * feat4\n",
      "Accuracy score: 0.7333333333333333\n",
      "Classification error by me : 0.26666666666666666\n",
      "\n",
      "Classification model by me first label: y = -0.7022966122624574 + -0.6041370968803357 * feat1 + 1.3151196516512529 * feat2 + -1.242212490944905 * feat3 + -0.9034975160539321 * feat4\n",
      "Classification model by me second label: y = -0.6982929466684846 + 0.13237000187468978 * feat1 + -0.8901291980866582 * feat2 + 0.2017293807980764 * feat3 + -0.28071536473352204 * feat4\n",
      "Classification model by me third label: y = -0.7749333925518953 + 0.6208076699235432 * feat1 + 0.5019981749539493 * feat2 + 1.0554022360992652 * feat3 + 1.124246753019893 * feat4\n",
      "Accuracy score: 0.8666666666666667\n",
      "Classification error by me : 0.13333333333333333\n",
      "\n",
      "Other loss functions:\n",
      "Accuracy score (log loss by tool): 0.9333333333333333\n",
      "Accuracy score (hinge loss by tool): 0.9666666666666667\n",
      "Accuracy score (squared hinge loss by tool): 0.36666666666666664\n"
     ]
    }
   ],
   "source": [
    "main_flowers()"
   ]
  },
  {
   "cell_type": "code",
   "execution_count": null,
   "metadata": {
    "ExecuteTime": {
     "end_time": "2023-05-07T17:55:20.956235Z",
     "start_time": "2023-05-07T17:55:20.937745Z"
    },
    "collapsed": false,
    "pycharm": {
     "is_executing": true
    }
   },
   "outputs": [],
   "source": []
  }
 ],
 "metadata": {
  "kernelspec": {
   "display_name": "Python 3",
   "language": "python",
   "name": "python3"
  },
  "language_info": {
   "codemirror_mode": {
    "name": "ipython",
    "version": 3
   },
   "file_extension": ".py",
   "mimetype": "text/x-python",
   "name": "python",
   "nbconvert_exporter": "python",
   "pygments_lexer": "ipython3",
   "version": "3.11.3"
  }
 },
 "nbformat": 4,
 "nbformat_minor": 0
}
