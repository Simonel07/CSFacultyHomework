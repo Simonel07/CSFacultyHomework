{
 "cells": [
  {
   "cell_type": "code",
   "execution_count": 8,
   "metadata": {},
   "outputs": [
    {
     "data": {
      "text/html": [
       "<html><script type=\"math/tex; mode=display\">\\newcommand{\\Bold}[1]{\\mathbf{#1}}{\\left(m x + C\\right)} x</script></html>"
      ],
      "text/plain": [
       "(m*x + _C)*x"
      ]
     },
     "metadata": {},
     "output_type": "display_data"
    }
   ],
   "source": [
    "x = var('x')\n",
    "y = function('y')(x)\n",
    "m = var('m')\n",
    "eqd = x*diff(y, x) == m*x^2 + y\n",
    "sol(x, _C, m) = desolve(eqd, [y, x] )\n",
    "show(sol(x, _C, m))"
   ]
  },
  {
   "cell_type": "code",
   "execution_count": 9,
   "metadata": {},
   "outputs": [
    {
     "data": {
      "text/plain": [
       "[_C == -m + 2]"
      ]
     },
     "execution_count": 9,
     "metadata": {},
     "output_type": "execute_result"
    }
   ],
   "source": [
    "_C = var('_C')\n",
    "_C = solve(sol(1, _C, m)==2, _C)"
   ]
  },
  {
   "cell_type": "code",
   "execution_count": 11,
   "metadata": {},
   "outputs": [
    {
     "data": {
      "text/plain": [
       "(m*x - m + 2)*x"
      ]
     },
     "execution_count": 11,
     "metadata": {},
     "output_type": "execute_result"
    }
   ],
   "source": [
    "sol(x, -m+2, m)"
   ]
  },
  {
   "cell_type": "code",
   "execution_count": 12,
   "metadata": {},
   "outputs": [
    {
     "data": {
      "text/plain": [
       "[m == (-2/3)]"
      ]
     },
     "execution_count": 12,
     "metadata": {},
     "output_type": "execute_result"
    }
   ],
   "source": [
    "#pb2\n",
    "solve(sol(3, 2-m, m)==2, m)"
   ]
  },
  {
   "cell_type": "code",
   "execution_count": 14,
   "metadata": {},
   "outputs": [],
   "source": [
    "eqd = x^2*diff(y, x, 2) - 2*x*diff(y, x) + 2*y == 0\n",
    "_K1 = var(\"_K1\")\n",
    "_K2 = var(\"_K2\")\n",
    "sol(x, _K1, _K2) = desolve(eqd, y)"
   ]
  },
  {
   "cell_type": "code",
   "execution_count": 17,
   "metadata": {},
   "outputs": [
    {
     "data": {
      "text/html": [
       "<html><script type=\"math/tex; mode=display\">\\newcommand{\\Bold}[1]{\\mathbf{#1}}K_{1} x^{2} + K_{2} x</script></html>"
      ],
      "text/plain": [
       "_K1*x^2 + _K2*x"
      ]
     },
     "metadata": {},
     "output_type": "display_data"
    }
   ],
   "source": [
    "show(sol(x, _K1, _K2))\n",
    "dif(x, _K1, _K2) = diff(sol(x, _K1, _K2), x)"
   ]
  },
  {
   "cell_type": "code",
   "execution_count": 18,
   "metadata": {},
   "outputs": [
    {
     "data": {
      "text/plain": [
       "[_K1 + _K2 == 2, 0 == 3]"
      ]
     },
     "execution_count": 18,
     "metadata": {},
     "output_type": "execute_result"
    }
   ],
   "source": []
  },
  {
   "cell_type": "code",
   "execution_count": 19,
   "metadata": {},
   "outputs": [
    {
     "data": {
      "text/html": [
       "<html><script type=\"math/tex; mode=display\">\\newcommand{\\Bold}[1]{\\mathbf{#1}}2 \\, K_{1} x + K_{2}</script></html>"
      ],
      "text/plain": [
       "2*_K1*x + _K2"
      ]
     },
     "metadata": {},
     "output_type": "display_data"
    }
   ],
   "source": [
    "show(dif)"
   ]
  },
  {
   "cell_type": "code",
   "execution_count": 31,
   "metadata": {},
   "outputs": [
    {
     "data": {
      "text/html": [
       "<html><script type=\"math/tex; mode=display\">\\newcommand{\\Bold}[1]{\\mathbf{#1}}\\left[K_{1} = -K_{2} + 2, K_{2} = -\\frac{1}{2} \\, K_{1} + \\frac{3}{2}\\right]</script></html>"
      ],
      "text/plain": [
       "[_K1 == -_K2 + 2, _K2 == -1/2*_K1 + 3/2]"
      ]
     },
     "metadata": {},
     "output_type": "display_data"
    }
   ],
   "source": [
    "r1 = sol(1, _K1, _K2)==2 \n",
    "r2 = dif(1, _K1, _K2)==3\n",
    "sys = [solve(r1, _K1)[0], solve(r2, _K2)[0]]\n",
    "show(sys)"
   ]
  },
  {
   "cell_type": "code",
   "execution_count": 32,
   "metadata": {},
   "outputs": [
    {
     "data": {
      "text/plain": [
       "[[_K1 == 1, _K2 == 1]]"
      ]
     },
     "execution_count": 32,
     "metadata": {},
     "output_type": "execute_result"
    }
   ],
   "source": [
    "solve(sys, _K1, _K2)"
   ]
  },
  {
   "cell_type": "code",
   "execution_count": 36,
   "metadata": {},
   "outputs": [
    {
     "data": {
      "text/html": [
       "<html><script type=\"math/tex; mode=display\">\\newcommand{\\Bold}[1]{\\mathbf{#1}}x^{2} + x</script></html>"
      ],
      "text/plain": [
       "x^2 + x"
      ]
     },
     "metadata": {},
     "output_type": "display_data"
    }
   ],
   "source": [
    "final = sol(x, 1, 1)\n",
    "show(final)"
   ]
  },
  {
   "cell_type": "code",
   "execution_count": 35,
   "metadata": {},
   "outputs": [
    {
     "data": {
      "image/png": "[encoded data removed]",
      "text/plain": [
       "Graphics object consisting of 1 graphics primitive"
      ]
     },
     "execution_count": 35,
     "metadata": {},
     "output_type": "execute_result"
    }
   ],
   "source": [
    "plot(final, x, -2, 2)"
   ]
  },
  {
   "cell_type": "code",
   "execution_count": 69,
   "metadata": {},
   "outputs": [
    {
     "data": {
      "text/html": [
       "<html><script type=\"math/tex; mode=display\">\\newcommand{\\Bold}[1]{\\mathbf{#1}}\\frac{\\partial}{\\partial t}x\\left(t\\right) = -x\\left(t\\right)^{3} + x\\left(t\\right)^{2} + 2 \\, x\\left(t\\right)</script></html>"
      ],
      "text/plain": [
       "diff(x(t), t) == -x(t)^3 + x(t)^2 + 2*x(t)"
      ]
     },
     "metadata": {},
     "output_type": "display_data"
    }
   ],
   "source": [
    "t = var('t')\n",
    "s= var('s')\n",
    "x = function('x')(t)\n",
    "eqd = diff(x, t) == -x^3 + x^2 + 2*x\n",
    "show(eqd)"
   ]
  },
  {
   "cell_type": "code",
   "execution_count": 53,
   "metadata": {},
   "outputs": [
    {
     "data": {
      "text/html": [
       "<html><script type=\"math/tex; mode=display\">\\newcommand{\\Bold}[1]{\\mathbf{#1}}-t^{3} + t^{2} + 2 \\, t</script></html>"
      ],
      "text/plain": [
       "-t^3 + t^2 + 2*t"
      ]
     },
     "metadata": {},
     "output_type": "display_data"
    }
   ],
   "source": [
    "f = function('f')(s)\n",
    "f(s) = -s^3 + s^2 + 2*s\n",
    "show(f(t))"
   ]
  },
  {
   "cell_type": "code",
   "execution_count": 54,
   "metadata": {},
   "outputs": [],
   "source": [
    "eqp=solve(f(s)==0,s)"
   ]
  },
  {
   "cell_type": "code",
   "execution_count": 55,
   "metadata": {},
   "outputs": [
    {
     "data": {
      "text/html": [
       "<html><script type=\"math/tex; mode=display\">\\newcommand{\\Bold}[1]{\\mathbf{#1}}\\left[s = 2, s = \\left(-1\\right), s = 0\\right]</script></html>"
      ],
      "text/plain": [
       "[s == 2, s == -1, s == 0]"
      ]
     },
     "metadata": {},
     "output_type": "display_data"
    }
   ],
   "source": [
    "show(eqp)"
   ]
  },
  {
   "cell_type": "code",
   "execution_count": 56,
   "metadata": {},
   "outputs": [
    {
     "data": {
      "text/plain": [
       "2"
      ]
     },
     "execution_count": 56,
     "metadata": {},
     "output_type": "execute_result"
    }
   ],
   "source": [
    "x1=eqp[0].rhs()\n",
    "x1\n"
   ]
  },
  {
   "cell_type": "code",
   "execution_count": 57,
   "metadata": {},
   "outputs": [
    {
     "data": {
      "text/plain": [
       "-1"
      ]
     },
     "execution_count": 57,
     "metadata": {},
     "output_type": "execute_result"
    }
   ],
   "source": [
    "x2=eqp[1].rhs()\n",
    "x2\n",
    "\n"
   ]
  },
  {
   "cell_type": "code",
   "execution_count": 58,
   "metadata": {},
   "outputs": [
    {
     "data": {
      "text/plain": [
       "0"
      ]
     },
     "execution_count": 58,
     "metadata": {},
     "output_type": "execute_result"
    }
   ],
   "source": [
    "x3=eqp[2].rhs()\n",
    "x3"
   ]
  },
  {
   "cell_type": "code",
   "execution_count": 60,
   "metadata": {},
   "outputs": [
    {
     "data": {
      "text/plain": [
       "-6"
      ]
     },
     "execution_count": 60,
     "metadata": {},
     "output_type": "execute_result"
    }
   ],
   "source": [
    "diff(f,s)(x1) #<0 => x1=2  este local asimptotic stabil. "
   ]
  },
  {
   "cell_type": "code",
   "execution_count": 63,
   "metadata": {},
   "outputs": [
    {
     "data": {
      "text/plain": [
       "-3"
      ]
     },
     "execution_count": 63,
     "metadata": {},
     "output_type": "execute_result"
    }
   ],
   "source": [
    "diff(f,s)(x2) #<0 => x1=-1  este local asimptotic stabil. "
   ]
  },
  {
   "cell_type": "code",
   "execution_count": 64,
   "metadata": {},
   "outputs": [
    {
     "data": {
      "text/plain": [
       "2"
      ]
     },
     "execution_count": 64,
     "metadata": {},
     "output_type": "execute_result"
    }
   ],
   "source": [
    "diff(f,s)(x3) #>0ceea ce implica faptul ca punctul de echilibru  x3=0  este instabil."
   ]
  },
  {
   "cell_type": "code",
   "execution_count": 89,
   "metadata": {},
   "outputs": [
    {
     "data": {
      "text/html": [
       "<html><script type=\"math/tex; mode=display\">\\newcommand{\\Bold}[1]{\\mathbf{#1}}\\frac{\\partial}{\\partial x}y\\left(x\\right) = -y\\left(x\\right)^{3} + y\\left(x\\right)^{2} + 2 \\, y\\left(x\\right)</script></html>"
      ],
      "text/plain": [
       "diff(y(x), x) == -y(x)^3 + y(x)^2 + 2*y(x)"
      ]
     },
     "metadata": {},
     "output_type": "display_data"
    },
    {
     "data": {
      "text/html": [
       "<html><script type=\"math/tex; mode=display\">\\newcommand{\\Bold}[1]{\\mathbf{#1}}-\\frac{1}{3} \\, \\log\\left(y\\left(x\\right) + 1\\right) - \\frac{1}{6} \\, \\log\\left(y\\left(x\\right) - 2\\right) + \\frac{1}{2} \\, \\log\\left(y\\left(x\\right)\\right) = C + x</script></html>"
      ],
      "text/plain": [
       "-1/3*log(y(x) + 1) - 1/6*log(y(x) - 2) + 1/2*log(y(x)) == _C + x"
      ]
     },
     "metadata": {},
     "output_type": "display_data"
    },
    {
     "data": {
      "text/html": [
       "<html><script type=\"math/tex; mode=display\">\\newcommand{\\Bold}[1]{\\mathbf{#1}}\\left[\\log\\left(y\\left(x\\right)\\right) = 2 \\, C + 2 \\, x + \\frac{2}{3} \\, \\log\\left(y\\left(x\\right) + 1\\right) + \\frac{1}{3} \\, \\log\\left(y\\left(x\\right) - 2\\right)\\right]</script></html>"
      ],
      "text/plain": [
       "[log(y(x)) == 2*_C + 2*x + 2/3*log(y(x) + 1) + 1/3*log(y(x) - 2)]"
      ]
     },
     "metadata": {},
     "output_type": "display_data"
    }
   ],
   "source": [
    "x = var('x')\n",
    "y = function('y')(x)\n",
    "m = var('m')\n",
    "eqd = diff(y, x) == -y^3+y^2+2*y\n",
    "show(eqd)\n",
    "sol(x, _C) = desolve(eqd, [y, x])\n",
    "conditii = [-1, -1/2, 0, 1/2, 1, 3/2, 2]\n",
    "show(sol(x, _C))"
   ]
  },
  {
   "cell_type": "code",
   "execution_count": 72,
   "metadata": {},
   "outputs": [
    {
     "data": {
      "text/html": [
       "<html><script type=\"math/tex; mode=display\">\\newcommand{\\Bold}[1]{\\mathbf{#1}}\\left[x\\left(t\\right) = 7 \\, {\\left(C_{1} + 3 \\, C_{2}\\right)} e^{\\left(3 \\, t\\right)} - 3 \\, {\\left(2 \\, C_{1} + 7 \\, C_{2}\\right)} e^{\\left(2 \\, t\\right)}, y\\left(t\\right) = -2 \\, {\\left(C_{1} + 3 \\, C_{2}\\right)} e^{\\left(3 \\, t\\right)} + {\\left(2 \\, C_{1} + 7 \\, C_{2}\\right)} e^{\\left(2 \\, t\\right)}\\right]</script></html>"
      ],
      "text/plain": [
       "[x(t) == 7*(C1 + 3*C2)*e^(3*t) - 3*(2*C1 + 7*C2)*e^(2*t),\n",
       " y(t) == -2*(C1 + 3*C2)*e^(3*t) + (2*C1 + 7*C2)*e^(2*t)]"
      ]
     },
     "metadata": {},
     "output_type": "display_data"
    }
   ],
   "source": [
    "#exercitiul 3\n",
    "x = function('x')(t)\n",
    "y = function('y')(t)\n",
    "\n",
    "sys = [diff(x, t) == 9*x + 21*y, diff(y, t) == -2*x - 4*y]\n",
    "C1,C2=var('C1,C2')\n",
    "sol = desolve_system(sys, [x,y],[0,C1,C2])\n",
    "show(sol)"
   ]
  },
  {
   "cell_type": "code",
   "execution_count": 73,
   "metadata": {},
   "outputs": [
    {
     "data": {
      "text/html": [
       "<html><script type=\"math/tex; mode=display\">\\newcommand{\\Bold}[1]{\\mathbf{#1}}\\left[x\\left(t\\right) = 119 \\, e^{\\left(3 \\, t\\right)} - 117 \\, e^{\\left(2 \\, t\\right)}, y\\left(t\\right) = -34 \\, e^{\\left(3 \\, t\\right)} + 39 \\, e^{\\left(2 \\, t\\right)}\\right]</script></html>"
      ],
      "text/plain": [
       "[x(t) == 119*e^(3*t) - 117*e^(2*t), y(t) == -34*e^(3*t) + 39*e^(2*t)]"
      ]
     },
     "metadata": {},
     "output_type": "display_data"
    }
   ],
   "source": [
    "sol = desolve_system(sys, [x,y],[0,2,5])\n",
    "show(sol)"
   ]
  },
  {
   "cell_type": "code",
   "execution_count": null,
   "metadata": {},
   "outputs": [],
   "source": []
  }
 ],
 "metadata": {
  "kernelspec": {
   "display_name": "SageMath 9.1",
   "language": "sage",
   "name": "sagemath"
  },
  "language_info": {
   "codemirror_mode": {
    "name": "ipython",
    "version": 3
   },
   "file_extension": ".py",
   "mimetype": "text/x-python",
   "name": "python",
   "nbconvert_exporter": "python",
   "pygments_lexer": "ipython3",
   "version": "3.7.3"
  }
 },
 "nbformat": 4,
 "nbformat_minor": 2
}
