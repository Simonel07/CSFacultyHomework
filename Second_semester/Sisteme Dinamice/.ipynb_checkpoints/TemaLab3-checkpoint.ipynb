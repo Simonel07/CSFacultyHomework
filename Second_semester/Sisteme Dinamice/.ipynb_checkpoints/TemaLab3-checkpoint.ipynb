{
 "cells": [
  {
   "cell_type": "markdown",
   "metadata": {},
   "source": [
    "# Laborator 3"
   ]
  },
  {
   "cell_type": "markdown",
   "metadata": {},
   "source": [
    "Problema 1"
   ]
  },
  {
   "cell_type": "markdown",
   "metadata": {},
   "source": [
    "a."
   ]
  },
  {
   "cell_type": "code",
   "execution_count": 7,
   "metadata": {},
   "outputs": [
    {
     "data": {
      "text/html": [
       "<html><script type=\"math/tex; mode=display\">\\newcommand{\\Bold}[1]{\\mathbf{#1}}\\left[\\frac{\\partial}{\\partial t}x\\left(t\\right) = x\\left(t\\right) + 4 \\, y\\left(t\\right), \\frac{\\partial}{\\partial t}y\\left(t\\right) = x\\left(t\\right) + y\\left(t\\right)\\right]</script></html>"
      ],
      "text/plain": [
       "[diff(x(t), t) == x(t) + 4*y(t), diff(y(t), t) == x(t) + y(t)]"
      ]
     },
     "metadata": {},
     "output_type": "display_data"
    }
   ],
   "source": [
    "t = var('t')\n",
    "x=function('x')(t)\n",
    "y=function('y')(t)\n",
    "deq1=diff(x,t)==x+4*y\n",
    "deq2=diff(y,t)==x+y\n",
    "syst=[deq1,deq2]\n",
    "show(syst)"
   ]
  },
  {
   "cell_type": "code",
   "execution_count": 10,
   "metadata": {},
   "outputs": [
    {
     "data": {
      "text/html": [
       "<html><script type=\"math/tex; mode=display\">\\newcommand{\\Bold}[1]{\\mathbf{#1}}\\left[x\\left(t\\right) = {\\left(\\cos\\left(t\\right) x\\left(0\\right) - \\sin\\left(t\\right) y\\left(0\\right)\\right)} e^{\\left(2 \\, t\\right)}, y\\left(t\\right) = {\\left(\\sin\\left(t\\right) x\\left(0\\right) + \\cos\\left(t\\right) y\\left(0\\right)\\right)} e^{\\left(2 \\, t\\right)}\\right]</script></html>"
      ],
      "text/plain": [
       "[x(t) == (cos(t)*x(0) - sin(t)*y(0))*e^(2*t),\n",
       " y(t) == (sin(t)*x(0) + cos(t)*y(0))*e^(2*t)]"
      ]
     },
     "metadata": {},
     "output_type": "display_data"
    }
   ],
   "source": [
    "C1,C2=var('C1,C2')\n",
    "desolve_system(syst, [x,y],[0,C1,C2])\n",
    "show(sol_syst)"
   ]
  },
  {
   "cell_type": "markdown",
   "metadata": {},
   "source": [
    "b."
   ]
  },
  {
   "cell_type": "code",
   "execution_count": 11,
   "metadata": {},
   "outputs": [
    {
     "data": {
      "text/html": [
       "<html><script type=\"math/tex; mode=display\">\\newcommand{\\Bold}[1]{\\mathbf{#1}}\\left[\\frac{\\partial}{\\partial t}x\\left(t\\right) = 2 \\, x\\left(t\\right) - y\\left(t\\right), \\frac{\\partial}{\\partial t}y\\left(t\\right) = x\\left(t\\right) + 2 \\, y\\left(t\\right)\\right]</script></html>"
      ],
      "text/plain": [
       "[diff(x(t), t) == 2*x(t) - y(t), diff(y(t), t) == x(t) + 2*y(t)]"
      ]
     },
     "metadata": {},
     "output_type": "display_data"
    },
    {
     "data": {
      "text/html": [
       "<html><script type=\"math/tex; mode=display\">\\newcommand{\\Bold}[1]{\\mathbf{#1}}\\left[x\\left(t\\right) = {\\left(\\cos\\left(t\\right) x\\left(0\\right) - \\sin\\left(t\\right) y\\left(0\\right)\\right)} e^{\\left(2 \\, t\\right)}, y\\left(t\\right) = {\\left(\\sin\\left(t\\right) x\\left(0\\right) + \\cos\\left(t\\right) y\\left(0\\right)\\right)} e^{\\left(2 \\, t\\right)}\\right]</script></html>"
      ],
      "text/plain": [
       "[x(t) == (cos(t)*x(0) - sin(t)*y(0))*e^(2*t),\n",
       " y(t) == (sin(t)*x(0) + cos(t)*y(0))*e^(2*t)]"
      ]
     },
     "metadata": {},
     "output_type": "display_data"
    }
   ],
   "source": [
    "t = var('t')\n",
    "x=function('x')(t)\n",
    "y=function('y')(t)\n",
    "deq1=diff(x,t)==2*x-y\n",
    "deq2=diff(y,t)==x+2*y\n",
    "syst=[deq1,deq2]\n",
    "show(syst)\n",
    "C1,C2=var('C1,C2')\n",
    "desolve_system(syst, [x,y],[0,C1,C2])\n",
    "show(sol_syst)"
   ]
  },
  {
   "cell_type": "markdown",
   "metadata": {},
   "source": [
    "c."
   ]
  },
  {
   "cell_type": "code",
   "execution_count": 13,
   "metadata": {},
   "outputs": [
    {
     "data": {
      "text/html": [
       "<html><script type=\"math/tex; mode=display\">\\newcommand{\\Bold}[1]{\\mathbf{#1}}\\left[\\frac{\\partial}{\\partial t}x\\left(t\\right) = x\\left(t\\right) - y\\left(t\\right) + z\\left(t\\right), \\frac{\\partial}{\\partial t}y\\left(t\\right) = x\\left(t\\right) + y\\left(t\\right) - z\\left(t\\right), \\frac{\\partial}{\\partial t}z\\left(t\\right) = -y\\left(t\\right) + 2 \\, z\\left(t\\right)\\right]</script></html>"
      ],
      "text/plain": [
       "[diff(x(t), t) == x(t) - y(t) + z(t),\n",
       " diff(y(t), t) == x(t) + y(t) - z(t),\n",
       " diff(z(t), t) == -y(t) + 2*z(t)]"
      ]
     },
     "metadata": {},
     "output_type": "display_data"
    },
    {
     "data": {
      "text/html": [
       "<html><script type=\"math/tex; mode=display\">\\newcommand{\\Bold}[1]{\\mathbf{#1}}\\left[x\\left(t\\right) = {\\left(\\cos\\left(t\\right) x\\left(0\\right) - \\sin\\left(t\\right) y\\left(0\\right)\\right)} e^{\\left(2 \\, t\\right)}, y\\left(t\\right) = {\\left(\\sin\\left(t\\right) x\\left(0\\right) + \\cos\\left(t\\right) y\\left(0\\right)\\right)} e^{\\left(2 \\, t\\right)}\\right]</script></html>"
      ],
      "text/plain": [
       "[x(t) == (cos(t)*x(0) - sin(t)*y(0))*e^(2*t),\n",
       " y(t) == (sin(t)*x(0) + cos(t)*y(0))*e^(2*t)]"
      ]
     },
     "metadata": {},
     "output_type": "display_data"
    }
   ],
   "source": [
    "t = var('t')\n",
    "x=function('x')(t)\n",
    "y=function('y')(t)\n",
    "z=function('z')(t)\n",
    "deq1=diff(x,t)==x-y+z\n",
    "deq2=diff(y,t)==x+y-z\n",
    "deq3=diff(z,t)==-y+2*z\n",
    "syst=[deq1,deq2,deq3]\n",
    "show(syst)\n",
    "C1,C2,C3=var('C1,C2,C3')\n",
    "desolve_system(syst, [x,y,z],[0,C1,C2,C3])\n",
    "show(sol_syst)"
   ]
  },
  {
   "cell_type": "markdown",
   "metadata": {},
   "source": [
    "d."
   ]
  },
  {
   "cell_type": "code",
   "execution_count": null,
   "metadata": {},
   "outputs": [],
   "source": [
    "t = var('t')\n",
    "x=function('x')(t)\n",
    "y=function('y')(t)\n",
    "deq1=diff(x,t)==5*x+3*y+1\n",
    "deq2=diff(y,t)==-6*x-4*y+e^(-t)\n",
    "syst=[deq1,deq2]\n",
    "show(syst)\n",
    "C1,C2=var('C1,C2')\n",
    "desolve_system(syst, [x,y],[0,C1,C2])\n",
    "show(sol_syst)"
   ]
  }
 ],
 "metadata": {
  "kernelspec": {
   "display_name": "SageMath 9.1",
   "language": "sage",
   "name": "sagemath"
  },
  "language_info": {
   "codemirror_mode": {
    "name": "ipython",
    "version": 3
   },
   "file_extension": ".py",
   "mimetype": "text/x-python",
   "name": "python",
   "nbconvert_exporter": "python",
   "pygments_lexer": "ipython3",
   "version": "3.7.3"
  }
 },
 "nbformat": 4,
 "nbformat_minor": 2
}
