{
 "cells": [
  {
   "cell_type": "markdown",
   "metadata": {},
   "source": [
    "Exercitiul 1"
   ]
  },
  {
   "cell_type": "code",
   "execution_count": 4,
   "metadata": {},
   "outputs": [
    {
     "data": {
      "text/html": [
       "<html><script type=\"math/tex; mode=display\">\\newcommand{\\Bold}[1]{\\mathbf{#1}}\\frac{\\partial}{\\partial t}x\\left(t\\right) = -k x\\left(t\\right)</script></html>"
      ],
      "text/plain": [
       "diff(x(t), t) == -k*x(t)"
      ]
     },
     "metadata": {},
     "output_type": "display_data"
    }
   ],
   "source": [
    "#a\n",
    "x0=var('x0')\n",
    "k=var('k')\n",
    "t=var('t')\n",
    "x=function('x')(t)\n",
    "eqd=diff(x,t) == (-1)*k*x\n",
    "show(eqd)"
   ]
  },
  {
   "cell_type": "code",
   "execution_count": 8,
   "metadata": {},
   "outputs": [
    {
     "data": {
      "text/html": [
       "<html><script type=\"math/tex; mode=display\">\\newcommand{\\Bold}[1]{\\mathbf{#1}}x_{0} e^{\\left(-k t\\right)}</script></html>"
      ],
      "text/plain": [
       "x0*e^(-k*t)"
      ]
     },
     "metadata": {},
     "output_type": "display_data"
    }
   ],
   "source": [
    "f(t,x0,k)=desolve(eqd,[x,t],ics=[0,x0])\n",
    "show(f(t,x0,k))"
   ]
  },
  {
   "cell_type": "code",
   "execution_count": 16,
   "metadata": {},
   "outputs": [
    {
     "data": {
      "image/png": "[encoded data removed]",
      "text/plain": [
       "Graphics object consisting of 9 graphics primitives"
      ]
     },
     "metadata": {},
     "output_type": "display_data"
    }
   ],
   "source": [
    "#b\n",
    "graph = plot(f(t,10/1,0.1),t,0,100)\n",
    "for i in range(2,10):\n",
    "    graph = graph + plot(f(t,10/i,0.1),t,0,100)\n",
    "show(graph)"
   ]
  },
  {
   "cell_type": "code",
   "execution_count": 42,
   "metadata": {},
   "outputs": [
    {
     "data": {
      "text/html": [
       "<html><script type=\"math/tex; mode=display\">\\newcommand{\\Bold}[1]{\\mathbf{#1}}\\left[k = \\frac{\\log\\left(2\\right)}{t_{12}}\\right]</script></html>"
      ],
      "text/plain": [
       "[k == log(2)/t12]"
      ]
     },
     "metadata": {},
     "output_type": "display_data"
    }
   ],
   "source": [
    "#c\n",
    "t12=var('t12')\n",
    "ksol=(f(t12,x0,k) == x0/2)\n",
    "formula=solve(ksol,k)\n",
    "show(formula)"
   ]
  },
  {
   "cell_type": "code",
   "execution_count": 55,
   "metadata": {},
   "outputs": [
    {
     "data": {
      "text/html": [
       "<html><script type=\"math/tex; mode=display\">\\newcommand{\\Bold}[1]{\\mathbf{#1}}0.000120968094338559</script></html>"
      ],
      "text/plain": [
       "0.000120968094338559"
      ]
     },
     "metadata": {},
     "output_type": "display_data"
    }
   ],
   "source": [
    "ksol=formula[0]\n",
    "ksol=ksol.rhs()\n",
    "ksol=ksol.substitute(t12==5730)\n",
    "show(numerical_approx(ksol))"
   ]
  },
  {
   "cell_type": "code",
   "execution_count": 57,
   "metadata": {},
   "outputs": [
    {
     "data": {
      "text/html": [
       "<html><script type=\"math/tex; mode=display\">\\newcommand{\\Bold}[1]{\\mathbf{#1}}13304.6479837046</script></html>"
      ],
      "text/plain": [
       "13304.6479837046"
      ]
     },
     "metadata": {},
     "output_type": "display_data"
    }
   ],
   "source": [
    "#d\n",
    "solution=f(t,1,ksol) == 0.2\n",
    "sol=solve(solution,t)\n",
    "sol_=sol[0].rhs()\n",
    "sol_=numerical_approx(sol_)\n",
    "show(sol_)"
   ]
  },
  {
   "cell_type": "code",
   "execution_count": 60,
   "metadata": {},
   "outputs": [
    {
     "data": {
      "text/html": [
       "<html><script type=\"math/tex; mode=display\">\\newcommand{\\Bold}[1]{\\mathbf{#1}}1259.98589553726</script></html>"
      ],
      "text/plain": [
       "1259.98589553726"
      ]
     },
     "metadata": {},
     "output_type": "display_data"
    }
   ],
   "source": [
    "#e\n",
    "solution=f(t,1,ksol) == 0.9157\n",
    "sol=solve(solution,t)\n",
    "sol_=sol[0].rhs()\n",
    "sol_=numerical_approx(sol_)\n",
    "sol_=1988-sol_\n",
    "show(sol_)"
   ]
  },
  {
   "cell_type": "code",
   "execution_count": 61,
   "metadata": {},
   "outputs": [
    {
     "data": {
      "text/html": [
       "<html><script type=\"math/tex; mode=display\">\\newcommand{\\Bold}[1]{\\mathbf{#1}}1389.95047074821</script></html>"
      ],
      "text/plain": [
       "1389.95047074821"
      ]
     },
     "metadata": {},
     "output_type": "display_data"
    }
   ],
   "source": [
    "solution=f(t,1,ksol) == 0.93021\n",
    "sol=solve(solution,t)\n",
    "sol_=sol[0].rhs()\n",
    "sol_=numerical_approx(sol_)\n",
    "sol_=1988-sol_\n",
    "show(sol_)"
   ]
  },
  {
   "cell_type": "markdown",
   "metadata": {},
   "source": [
    "Problema 2"
   ]
  },
  {
   "cell_type": "code",
   "execution_count": 2,
   "metadata": {},
   "outputs": [
    {
     "data": {
      "text/html": [
       "<html><script type=\"math/tex; mode=display\">\\newcommand{\\Bold}[1]{\\mathbf{#1}}\\frac{\\partial}{\\partial t}T\\left(t\\right) = {\\left(\\mathit{Tm} - T\\left(t\\right)\\right)} k</script></html>"
      ],
      "text/plain": [
       "diff(T(t), t) == (Tm - T(t))*k"
      ]
     },
     "metadata": {},
     "output_type": "display_data"
    }
   ],
   "source": [
    "#a\n",
    "reset()\n",
    "T0=var('T0')\n",
    "k=var('k')\n",
    "Tm=var('Tm')\n",
    "t=var('t')\n",
    "T=function('T')(t)\n",
    "eqd=diff(T,t) == (-1)*k*(T-Tm)\n",
    "show(eqd)"
   ]
  },
  {
   "cell_type": "code",
   "execution_count": 3,
   "metadata": {},
   "outputs": [
    {
     "data": {
      "text/html": [
       "<html><script type=\"math/tex; mode=display\">\\newcommand{\\Bold}[1]{\\mathbf{#1}}{\\left(\\mathit{Tm} e^{\\left(k t\\right)} + T_{0} - \\mathit{Tm}\\right)} e^{\\left(-k t\\right)}</script></html>"
      ],
      "text/plain": [
       "(Tm*e^(k*t) + T0 - Tm)*e^(-k*t)"
      ]
     },
     "metadata": {},
     "output_type": "display_data"
    }
   ],
   "source": [
    "f(t,T0,k,Tm)=desolve(eqd,[T,t],ics=[0,T0])\n",
    "show(f(t,T0,k,Tm))"
   ]
  },
  {
   "cell_type": "code",
   "execution_count": 4,
   "metadata": {},
   "outputs": [
    {
     "data": {
      "image/png": "[encoded data removed]",
      "text/plain": [
       "Graphics object consisting of 9 graphics primitives"
      ]
     },
     "metadata": {},
     "output_type": "display_data"
    }
   ],
   "source": [
    "#b\n",
    "graph = plot(f(t,36,0.1,21),t,0,100)\n",
    "for i in range(2,10):\n",
    "    graph = graph + plot(f(t,36,i/10,21),t,0,100)\n",
    "show(graph)"
   ]
  },
  {
   "cell_type": "code",
   "execution_count": 14,
   "metadata": {},
   "outputs": [
    {
     "data": {
      "text/html": [
       "<html><script type=\"math/tex; mode=display\">\\newcommand{\\Bold}[1]{\\mathbf{#1}}\\log\\left(\\frac{1322}{1311}\\right)</script></html>"
      ],
      "text/plain": [
       "log(1322/1311)"
      ]
     },
     "metadata": {},
     "output_type": "display_data"
    }
   ],
   "source": [
    "#c\n",
    "eq=[f(1,34.22,k,21) == 34.11]\n",
    "eq=solve(eq,k)\n",
    "_k=eq[0].rhs()\n",
    "show(_k)"
   ]
  },
  {
   "cell_type": "code",
   "execution_count": 15,
   "metadata": {},
   "outputs": [
    {
     "data": {
      "text/html": [
       "<html><script type=\"math/tex; mode=display\">\\newcommand{\\Bold}[1]{\\mathbf{#1}}\\left[1322^{t} = \\frac{750}{661} \\cdot 1311^{t}\\right]</script></html>"
      ],
      "text/plain": [
       "[1322^t == 750/661*1311^t]"
      ]
     },
     "metadata": {},
     "output_type": "display_data"
    }
   ],
   "source": [
    "eq2=f(t,36,_k,21) == 34.22\n",
    "eq2=solve(eq2,t)\n",
    "show(eq2)"
   ]
  },
  {
   "cell_type": "code",
   "execution_count": 23,
   "metadata": {},
   "outputs": [
    {
     "data": {
      "text/html": [
       "<html><script type=\"math/tex; mode=display\">\\newcommand{\\Bold}[1]{\\mathbf{#1}}15.118043520273162</script></html>"
      ],
      "text/plain": [
       "15.118043520273162"
      ]
     },
     "metadata": {},
     "output_type": "display_data"
    },
    {
     "data": {
      "text/html": [
       "<html><script type=\"math/tex; mode=display\">\\newcommand{\\Bold}[1]{\\mathbf{#1}}20.5000000000000</script></html>"
      ],
      "text/plain": [
       "20.5000000000000"
      ]
     },
     "metadata": {},
     "output_type": "display_data"
    }
   ],
   "source": [
    "_t=eq2[0]\n",
    "show(find_root(_t,0,24))\n",
    "show(24+11.5-15)"
   ]
  },
  {
   "cell_type": "code",
   "execution_count": null,
   "metadata": {},
   "outputs": [],
   "source": []
  }
 ],
 "metadata": {
  "kernelspec": {
   "display_name": "SageMath 9.1",
   "language": "sage",
   "name": "sagemath"
  },
  "language_info": {
   "codemirror_mode": {
    "name": "ipython",
    "version": 3
   },
   "file_extension": ".py",
   "mimetype": "text/x-python",
   "name": "python",
   "nbconvert_exporter": "python",
   "pygments_lexer": "ipython3",
   "version": "3.7.3"
  }
 },
 "nbformat": 4,
 "nbformat_minor": 2
}
